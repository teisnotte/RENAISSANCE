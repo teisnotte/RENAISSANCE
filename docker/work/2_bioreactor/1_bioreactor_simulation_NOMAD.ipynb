{
 "cells": [
  {
   "cell_type": "code",
   "execution_count": 5,
   "metadata": {},
   "outputs": [],
   "source": [
    "\"\"\"\n",
    "In this script, we verify the top 5 designs in a reactor setup using their model specific NRA suggested fold changes in enzyme activity\n",
    "\"\"\"\n",
    "import numpy as np\n",
    "import pandas as pd\n",
    "from configparser import ConfigParser\n",
    "\n",
    "from pytfa.io.json import load_json_model\n",
    "from pytfa.optim.constraints import *\n",
    "\n",
    "from skimpy.io.yaml import load_yaml_model\n",
    "from skimpy.io.regulation import load_enzyme_regulation\n",
    "from skimpy.analysis.oracle.load_pytfa_solution import load_fluxes, load_concentrations, load_equilibrium_constants\n",
    "from skimpy.core.parameters import load_parameter_population\n",
    "from skimpy.utils.tabdict import TabDict\n",
    "from skimpy.simulations.reactor import make_batch_reactor\n",
    "\n",
    "import os\n"
   ]
  },
  {
   "cell_type": "code",
   "execution_count": 3,
   "metadata": {},
   "outputs": [],
   "source": [
    "# Reactor parameters\n",
    "TOTAL_TIME = 60\n",
    "N_STEPS = 1000\n",
    "MAX_FOLD_ENZ_ACTIVITY = 5\n",
    "MAX_FOLD_CONC_CHANGE = 3\n",
    "\n",
    "# Cellular parameters\n",
    "CONCENTRATION_SCALING = 1e9 # 1 mol to 1 mmol\n",
    "TIME_SCALING = 1 # 1hr\n",
    "DENSITY = 1105 # g/L\n",
    "GDW_GWW_RATIO = 0.3 # Assumes 70% Water\n",
    "flux_scaling_factor = 1e-3 * (GDW_GWW_RATIO * DENSITY) * CONCENTRATION_SCALING / TIME_SCALING\n",
    "\n"
   ]
  },
  {
   "cell_type": "code",
   "execution_count": 22,
   "metadata": {},
   "outputs": [],
   "source": [
    "# parse arguments from configfile\n",
    "configs = ConfigParser()\n",
    "configs.read('bioreactor_configfile.ini')\n",
    "\n",
    "base = configs['PATHS']['base']\n",
    "met_model = configs['PATHS']['met_model']\n",
    "model_file = configs['PATHS']['model_file']\n",
    "thermo_experiment_file = configs['PATHS']['thermo_experiment_file']\n",
    "regulation_file = configs['PATHS']['regulation_file']\n",
    "kinetic_params_file = configs['PATHS']['kinetic_params_file']\n",
    "steady_states_file = configs['PATHS']['steady_states_file']\n",
    "generated_parameter_name_file = configs['PATHS']['generated_parameter_names']\n",
    "folder_for_output = configs['BIOREACTOR_SIMULATION']['output_dir']\n",
    "\n",
    "path_to_kmodel = f'{base}/{met_model}/kinetic/{model_file}'\n",
    "path_to_tmodel = f'{base}/{met_model}/thermo/{thermo_experiment_file}'\n",
    "path_to_params = f'{base}/{met_model}/parameters/{kinetic_params_file}'\n",
    "path_to_regulation_data = f'{base}/{met_model}/{regulation_file}'\n",
    "path_to_tfa_samples = f'{base}/{met_model}/steady_state_samples/{steady_states_file}'\n",
    "\n",
    "\n",
    "if not os.path.exists(folder_for_output):\n",
    "    os.makedirs(folder_for_output)"
   ]
  },
  {
   "cell_type": "code",
   "execution_count": 11,
   "metadata": {},
   "outputs": [
    {
     "name": "stderr",
     "output_type": "stream",
     "text": [
      "2024-03-08 14:18:47,720 - thermomodel_new - INFO - # Model initialized with units kcal/mol and temperature 298.15 K\n",
      "2024-03-08 14:18:49,535 - Unnamed - WARNING - Non integer stoichiometries found ['CYTBO3_4pp', 'LMPD_biomass_c_1_420', 'CYTBDpp'] change to integer for linear dependencies\n"
     ]
    }
   ],
   "source": [
    "# Load models, samples and parameters\n",
    "tmodel = load_json_model(path_to_tmodel)\n",
    "kmodel_draft = load_yaml_model(path_to_kmodel)\n",
    "\n",
    "# Load the dataframe with regulations and choose those rxns and mets that are in the kinetic model\n",
    "df = pd.read_csv(path_to_regulation_data)\n",
    "df_regulations_all = df[df['reaction_id'].isin(list(kmodel_draft.reactions.keys()))]\n",
    "df_regulations_all = df_regulations_all[df_regulations_all['regulator'].isin(list(kmodel_draft.reactants.keys()))]\n",
    "\n",
    "# Create kinetic model with regulation\n",
    "kmodel = load_enzyme_regulation(kmodel_draft, df_regulations_all)\n",
    "\n"
   ]
  },
  {
   "cell_type": "code",
   "execution_count": 12,
   "metadata": {},
   "outputs": [
    {
     "name": "stdout",
     "output_type": "stream",
     "text": [
      "The number of k for generation is 464, \n",
      "and the number of regulation parameters is 106.\n"
     ]
    }
   ],
   "source": [
    "k_names = []\n",
    "k_regulation = []\n",
    "\n",
    "for k, v in kmodel.parameters.items():\n",
    "    if k.startswith(\"km_\") or \"activator\" in k or \"inhibitor\" in k or \"activation\" in k or \"inhibition\" in k:\n",
    "        if k not in k_names:\n",
    "            k_names.append(k)\n",
    "            \n",
    "        if \"activator\" in k or \"inhibitor\" in k or \"activation\" in k or \"inhibition\" in k:\n",
    "            k_regulation.append(k)\n",
    "\n",
    "print(f\"The number of generated k in model is {len(k_names)}, \\nand the number of regulation parameters is {len(k_regulation)}.\")"
   ]
  },
  {
   "cell_type": "code",
   "execution_count": 14,
   "metadata": {},
   "outputs": [
    {
     "name": "stderr",
     "output_type": "stream",
     "text": [
      "2024-03-08 14:21:19,673 - Unnamed - WARNING - Non integer stoichiometries found ['LMPD_biomass_c_1_420', 'CYTBDpp', 'CYTBO3_4pp'] change to integer for linear dependencies\n"
     ]
    }
   ],
   "source": [
    "# Get the correct parameter sets\n",
    "parameter_population = load_parameter_population(path_to_params)\n",
    "kinetic_models = list(parameter_population._index.keys())\n",
    "\n",
    "# Load all NRA designs for all models\n",
    "list_of_designs = [['EU_DDPA', 'ED_GLUDy', 'EU_PYK',],# d-1 - circles\n",
    "                   ['EU_DDPA', 'ED_GLUDy', 'ED_PGI',], # d-2 - dashed line\n",
    "                   ['EU_DDPA', 'ED_GLUDy', 'ED_GND',],# d-3 - dash dot\n",
    "                   ['EU_DDPA', 'ED_GLUDy', 'ED_HEX1',],# d-4 - dotted\n",
    "                   ['EU_DDPA', 'ED_GLUDy', 'EU_ANS',], # d-5 - solid line\n",
    "                   ]\n",
    "\n",
    "# Get the requisite NRA suggested fold changes for each design for each model\n",
    "# df_enz_act = pd.read_csv('./../output/data/3-fold-conc-change/top_5_designs_fold_changes.csv', header=0, index_col=0)\n",
    "\n",
    "# Get the parameters that we want to do MCA for\n",
    "transport_reactions = ['vmax_forward_'+r.id for r in tmodel.reactions\n",
    "                       if (len(r.compartments) > 1)\n",
    "                       and not ('í' in r.compartments)\n",
    "                       and not r.id.startswith('LMPD_')\n",
    "                       and r.id in kmodel.reactions]\n",
    "transport_reactions.append('vmax_forward_ATPM')\n",
    "\n",
    "parameter_list = TabDict([(k, p.symbol) for k, p in kmodel.parameters.items()\n",
    "                         if p.name.startswith('vmax_forward')\n",
    "                         and str(p.symbol) not in transport_reactions])\n",
    "\n",
    "# Prepare the kinetic model for analysis\n",
    "kmodel.prepare()"
   ]
  },
  {
   "cell_type": "code",
   "execution_count": 18,
   "metadata": {},
   "outputs": [
    {
     "name": "stderr",
     "output_type": "stream",
     "text": [
      "2024-03-08 14:26:37,332 - Unnamed - WARNING - Non integer stoichiometries found ['CYTBO3_4pp', 'LMPD_biomass_c_1_420', 'CYTBDpp'] change to integer for linear dependencies\n"
     ]
    }
   ],
   "source": [
    "# Reactor initialization\n",
    "reactor = make_batch_reactor('single_species.yaml', df_regulation= df_regulations_all)\n",
    "reactor.compile_ode(add_dilution=False)\n",
    "reactor_volume = reactor.models.strain_1.parameters.strain_1_volume_e.value\n"
   ]
  },
  {
   "cell_type": "code",
   "execution_count": 20,
   "metadata": {},
   "outputs": [
    {
     "data": {
      "text/plain": [
       "['0', '1', '2', '3', '4', '5', '6', '7', '8', '9']"
      ]
     },
     "execution_count": 20,
     "metadata": {},
     "output_type": "execute_result"
    }
   ],
   "source": [
    "kinetic_models"
   ]
  },
  {
   "cell_type": "code",
   "execution_count": 24,
   "metadata": {},
   "outputs": [
    {
     "name": "stdout",
     "output_type": "stream",
     "text": [
      "0\n",
      "Running ode solver...\n",
      "Solving design 0\n"
     ]
    },
    {
     "name": "stderr",
     "output_type": "stream",
     "text": [
      "\n",
      "[CVODE ERROR]  CVode\n",
      "  At t = 0 and h = 1.34609e-24, the corrector convergence test failed repeatedly or with |h| = hmin.\n",
      "\n",
      "\n",
      "[CVODE ERROR]  CVode\n",
      "  At t = 0 and h = 1.34609e-24, the corrector convergence test failed repeatedly or with |h| = hmin.\n",
      "\n",
      "\n",
      "[CVODE ERROR]  CVode\n",
      "  At t = 0 and h = 1.34609e-24, the corrector convergence test failed repeatedly or with |h| = hmin.\n",
      "\n"
     ]
    },
    {
     "name": "stdout",
     "output_type": "stream",
     "text": [
      "Solving design 1\n",
      "Solving design 2\n"
     ]
    },
    {
     "name": "stderr",
     "output_type": "stream",
     "text": [
      "\n",
      "[CVODE ERROR]  CVode\n",
      "  At t = 0 and h = 1.34609e-24, the corrector convergence test failed repeatedly or with |h| = hmin.\n",
      "\n"
     ]
    },
    {
     "name": "stdout",
     "output_type": "stream",
     "text": [
      "Solving design 3\n",
      "Solving design 4\n"
     ]
    },
    {
     "name": "stderr",
     "output_type": "stream",
     "text": [
      "\n",
      "[CVODE ERROR]  CVode\n",
      "  At t = 0 and h = 1.34609e-24, the corrector convergence test failed repeatedly or with |h| = hmin.\n",
      "\n",
      "\n",
      "[CVODE ERROR]  CVode\n",
      "  At t = 0 and h = 1.34609e-24, the corrector convergence test failed repeatedly or with |h| = hmin.\n",
      "\n"
     ]
    },
    {
     "name": "stdout",
     "output_type": "stream",
     "text": [
      "1\n",
      "Running ode solver...\n",
      "Solving design 0\n"
     ]
    },
    {
     "name": "stderr",
     "output_type": "stream",
     "text": [
      "\n",
      "[CVODE ERROR]  CVode\n",
      "  At t = 0 and h = 2.24219e-27, the corrector convergence test failed repeatedly or with |h| = hmin.\n",
      "\n",
      "\n",
      "[CVODE ERROR]  CVode\n",
      "  At t = 0 and h = 2.24219e-27, the corrector convergence test failed repeatedly or with |h| = hmin.\n",
      "\n",
      "\n",
      "[CVODE ERROR]  CVode\n",
      "  At t = 0 and h = 2.24219e-27, the corrector convergence test failed repeatedly or with |h| = hmin.\n",
      "\n"
     ]
    },
    {
     "name": "stdout",
     "output_type": "stream",
     "text": [
      "Solving design 1\n",
      "Solving design 2\n"
     ]
    },
    {
     "name": "stderr",
     "output_type": "stream",
     "text": [
      "\n",
      "[CVODE ERROR]  CVode\n",
      "  At t = 0 and h = 2.24219e-27, the corrector convergence test failed repeatedly or with |h| = hmin.\n",
      "\n"
     ]
    },
    {
     "name": "stdout",
     "output_type": "stream",
     "text": [
      "Solving design 3\n",
      "Solving design 4\n"
     ]
    },
    {
     "name": "stderr",
     "output_type": "stream",
     "text": [
      "\n",
      "[CVODE ERROR]  CVode\n",
      "  At t = 0 and h = 2.24219e-27, the corrector convergence test failed repeatedly or with |h| = hmin.\n",
      "\n",
      "\n",
      "[CVODE ERROR]  CVode\n",
      "  At t = 0 and h = 2.24219e-27, the corrector convergence test failed repeatedly or with |h| = hmin.\n",
      "\n"
     ]
    },
    {
     "name": "stdout",
     "output_type": "stream",
     "text": [
      "2\n",
      "Running ode solver...\n"
     ]
    },
    {
     "name": "stderr",
     "output_type": "stream",
     "text": [
      "\n",
      "[CVODE ERROR]  CVode\n",
      "  At t = 0 and h = 4.64529e-27, the corrector convergence test failed repeatedly or with |h| = hmin.\n",
      "\n",
      "\n",
      "[CVLS ERROR]  cvLsSetup\n",
      "  The Jacobian routine failed in an unrecoverable manner.\n",
      "\n",
      "\n",
      "[CVODE ERROR]  CVode\n",
      "  At t = 0, the setup routine failed in an unrecoverable manner.\n",
      "\n"
     ]
    },
    {
     "name": "stdout",
     "output_type": "stream",
     "text": [
      "Solving design 0\n"
     ]
    },
    {
     "ename": "SystemError",
     "evalue": "<method-wrapper '__getattribute__' of EnumMeta object at 0x558dbe47db50> returned a result with an error set",
     "output_type": "error",
     "traceback": [
      "\u001b[0;31m---------------------------------------------------------------------------\u001b[0m",
      "\u001b[0;31mKeyboardInterrupt\u001b[0m                         Traceback (most recent call last)",
      "File \u001b[0;32mscikits/odes/sundials/cvode.pyx:175\u001b[0m, in \u001b[0;36mscikits.odes.sundials.cvode._rhsfn\u001b[0;34m()\u001b[0m\n",
      "File \u001b[0;32mscikits/odes/sundials/cvode.pyx:153\u001b[0m, in \u001b[0;36mscikits.odes.sundials.cvode.CV_WrapRhsFunction.evaluate\u001b[0;34m()\u001b[0m\n",
      "File \u001b[0;32m~/miniconda3/envs/skimpy-env/lib/python3.8/site-packages/skimpy/analysis/ode/ode_fun.py:90\u001b[0m, in \u001b[0;36mODEFunction.__call__\u001b[0;34m(self, t, y, ydot)\u001b[0m\n\u001b[1;32m     89\u001b[0m     input_vars \u001b[38;5;241m=\u001b[39m \u001b[38;5;28mlist\u001b[39m(y)\u001b[38;5;241m+\u001b[39m\u001b[38;5;28mlist\u001b[39m(\u001b[38;5;28mself\u001b[39m\u001b[38;5;241m.\u001b[39m_parameters_values)\n\u001b[0;32m---> 90\u001b[0m \u001b[38;5;28;43mself\u001b[39;49m\u001b[38;5;241;43m.\u001b[39;49m\u001b[43mfunction\u001b[49m\u001b[43m(\u001b[49m\u001b[43minput_vars\u001b[49m\u001b[43m,\u001b[49m\u001b[43m \u001b[49m\u001b[43mydot\u001b[49m\u001b[43m)\u001b[49m\n\u001b[1;32m     92\u001b[0m \u001b[38;5;28;01mif\u001b[39;00m \u001b[38;5;129;01mnot\u001b[39;00m \u001b[38;5;28mself\u001b[39m\u001b[38;5;241m.\u001b[39mcustom_ode_update \u001b[38;5;129;01mis\u001b[39;00m \u001b[38;5;28;01mNone\u001b[39;00m:\n",
      "File \u001b[0;32m~/miniconda3/envs/skimpy-env/lib/python3.8/site-packages/skimpy/utils/compile_sympy.py:79\u001b[0m, in \u001b[0;36mmake_cython_function.<locals>.this_function\u001b[0;34m(input_array, output_array)\u001b[0m\n\u001b[1;32m     78\u001b[0m \u001b[38;5;28;01mif\u001b[39;00m \u001b[38;5;129;01mnot\u001b[39;00m \u001b[38;5;28mtype\u001b[39m(input_array) \u001b[38;5;241m==\u001b[39m  np\u001b[38;5;241m.\u001b[39mndarray\u001b[38;5;241m.\u001b[39mdtype:\n\u001b[0;32m---> 79\u001b[0m     input_array \u001b[38;5;241m=\u001b[39m \u001b[43mnp\u001b[49m\u001b[38;5;241;43m.\u001b[39;49m\u001b[43marray\u001b[49m\u001b[43m(\u001b[49m\u001b[43minput_array\u001b[49m\u001b[43m,\u001b[49m\u001b[43m \u001b[49m\u001b[43mdtype\u001b[49m\u001b[38;5;241;43m=\u001b[39;49m\u001b[43mnp\u001b[49m\u001b[38;5;241;43m.\u001b[39;49m\u001b[43mfloat\u001b[49m\u001b[43m)\u001b[49m\n\u001b[1;32m     81\u001b[0m \u001b[38;5;66;03m#x.ctypes.data_as(ctypes.POINTER(ctypes.c_long))\u001b[39;00m\n",
      "\u001b[0;31mKeyboardInterrupt\u001b[0m: ",
      "\nThe above exception was the direct cause of the following exception:\n",
      "\u001b[0;31mSystemError\u001b[0m                               Traceback (most recent call last)",
      "Cell \u001b[0;32mIn[24], line 82\u001b[0m\n\u001b[1;32m     66\u001b[0m \u001b[38;5;66;03m# Manipulate the enzymes according to the design\u001b[39;00m\n\u001b[1;32m     67\u001b[0m \u001b[38;5;66;03m# for e in this_design:\u001b[39;00m\n\u001b[1;32m     68\u001b[0m \n\u001b[0;32m   (...)\u001b[0m\n\u001b[1;32m     78\u001b[0m \u001b[38;5;66;03m#     elif 'EU_' in e:\u001b[39;00m\n\u001b[1;32m     79\u001b[0m \u001b[38;5;66;03m#         reactor.parameters['strain_1_' + parameter_name].value *= np.exp(enz_fold_change)\u001b[39;00m\n\u001b[1;32m     81\u001b[0m \u001b[38;5;28mprint\u001b[39m(\u001b[38;5;124m'\u001b[39m\u001b[38;5;124mSolving design \u001b[39m\u001b[38;5;132;01m{}\u001b[39;00m\u001b[38;5;124m'\u001b[39m\u001b[38;5;241m.\u001b[39mformat(ix_design))\n\u001b[0;32m---> 82\u001b[0m sol_ode \u001b[38;5;241m=\u001b[39m \u001b[43mreactor\u001b[49m\u001b[38;5;241;43m.\u001b[39;49m\u001b[43msolve_ode\u001b[49m\u001b[43m(\u001b[49m\u001b[43mnp\u001b[49m\u001b[38;5;241;43m.\u001b[39;49m\u001b[43mlinspace\u001b[49m\u001b[43m(\u001b[49m\u001b[38;5;241;43m0\u001b[39;49m\u001b[43m,\u001b[49m\u001b[43m \u001b[49m\u001b[43mTOTAL_TIME\u001b[49m\u001b[43m,\u001b[49m\u001b[43m \u001b[49m\u001b[43mN_STEPS\u001b[49m\u001b[43m)\u001b[49m\u001b[43m,\u001b[49m\n\u001b[1;32m     83\u001b[0m \u001b[43m                            \u001b[49m\u001b[43msolver_type\u001b[49m\u001b[38;5;241;43m=\u001b[39;49m\u001b[38;5;124;43m'\u001b[39;49m\u001b[38;5;124;43mcvode\u001b[39;49m\u001b[38;5;124;43m'\u001b[39;49m\u001b[43m,\u001b[49m\n\u001b[1;32m     84\u001b[0m \u001b[43m                            \u001b[49m\u001b[43mrtol\u001b[49m\u001b[38;5;241;43m=\u001b[39;49m\u001b[38;5;241;43m1e-9\u001b[39;49m\u001b[43m,\u001b[49m\n\u001b[1;32m     85\u001b[0m \u001b[43m                            \u001b[49m\u001b[43matol\u001b[49m\u001b[38;5;241;43m=\u001b[39;49m\u001b[38;5;241;43m1e-9\u001b[39;49m\u001b[43m,\u001b[49m\n\u001b[1;32m     86\u001b[0m \u001b[43m                            \u001b[49m\u001b[43mmax_steps\u001b[49m\u001b[38;5;241;43m=\u001b[39;49m\u001b[38;5;241;43m1e9\u001b[39;49m\u001b[43m,\u001b[49m\n\u001b[1;32m     87\u001b[0m \u001b[43m                            \u001b[49m\u001b[43m)\u001b[49m\n\u001b[1;32m     89\u001b[0m \u001b[38;5;66;03m# Store all values in the dictionary\u001b[39;00m\n\u001b[1;32m     90\u001b[0m dict_ \u001b[38;5;241m=\u001b[39m {\u001b[38;5;124m'\u001b[39m\u001b[38;5;124mmodel\u001b[39m\u001b[38;5;124m'\u001b[39m: this_model,\n\u001b[1;32m     91\u001b[0m          \u001b[38;5;124m'\u001b[39m\u001b[38;5;124mdesign_ix\u001b[39m\u001b[38;5;124m'\u001b[39m: ix_design,\n\u001b[1;32m     92\u001b[0m          \u001b[38;5;124m'\u001b[39m\u001b[38;5;124mE1\u001b[39m\u001b[38;5;124m'\u001b[39m: this_design[\u001b[38;5;241m0\u001b[39m],\n\u001b[0;32m   (...)\u001b[0m\n\u001b[1;32m     96\u001b[0m          \u001b[38;5;124m'\u001b[39m\u001b[38;5;124mode_sol_wt\u001b[39m\u001b[38;5;124m'\u001b[39m: sol_ode_wt,\n\u001b[1;32m     97\u001b[0m          }\n",
      "File \u001b[0;32m~/miniconda3/envs/skimpy-env/lib/python3.8/site-packages/skimpy/core/reactor.py:252\u001b[0m, in \u001b[0;36mReactor.solve_ode\u001b[0;34m(self, time_out, solver_type, **kwargs)\u001b[0m\n\u001b[1;32m    250\u001b[0m \u001b[38;5;66;03m#Update fixed parameters\u001b[39;00m\n\u001b[1;32m    251\u001b[0m \u001b[38;5;28mself\u001b[39m\u001b[38;5;241m.\u001b[39mode_fun\u001b[38;5;241m.\u001b[39mget_params()\n\u001b[0;32m--> 252\u001b[0m solution \u001b[38;5;241m=\u001b[39m \u001b[38;5;28;43mself\u001b[39;49m\u001b[38;5;241;43m.\u001b[39;49m\u001b[43msolver\u001b[49m\u001b[38;5;241;43m.\u001b[39;49m\u001b[43msolve\u001b[49m\u001b[43m(\u001b[49m\u001b[43mtime_out\u001b[49m\u001b[43m,\u001b[49m\u001b[43m \u001b[49m\u001b[43mordered_initial_conditions\u001b[49m\u001b[43m)\u001b[49m\n\u001b[1;32m    254\u001b[0m \u001b[38;5;28;01mreturn\u001b[39;00m ODESolution(\u001b[38;5;28mself\u001b[39m, solution)\n",
      "File \u001b[0;32m~/miniconda3/envs/skimpy-env/lib/python3.8/site-packages/scikits/odes/ode.py:333\u001b[0m, in \u001b[0;36mode.solve\u001b[0;34m(self, tspan, y0)\u001b[0m\n\u001b[1;32m    290\u001b[0m \u001b[38;5;28;01mdef\u001b[39;00m \u001b[38;5;21msolve\u001b[39m(\u001b[38;5;28mself\u001b[39m, tspan, y0):\n\u001b[1;32m    291\u001b[0m \u001b[38;5;250m    \u001b[39m\u001b[38;5;124;03m\"\"\"\u001b[39;00m\n\u001b[1;32m    292\u001b[0m \u001b[38;5;124;03m    Runs the solver.\u001b[39;00m\n\u001b[1;32m    293\u001b[0m \n\u001b[0;32m   (...)\u001b[0m\n\u001b[1;32m    331\u001b[0m \n\u001b[1;32m    332\u001b[0m \u001b[38;5;124;03m    \"\"\"\u001b[39;00m\n\u001b[0;32m--> 333\u001b[0m     \u001b[38;5;28;01mreturn\u001b[39;00m \u001b[38;5;28;43mself\u001b[39;49m\u001b[38;5;241;43m.\u001b[39;49m\u001b[43m_integrator\u001b[49m\u001b[38;5;241;43m.\u001b[39;49m\u001b[43msolve\u001b[49m\u001b[43m(\u001b[49m\u001b[43mtspan\u001b[49m\u001b[43m,\u001b[49m\u001b[43m \u001b[49m\u001b[43my0\u001b[49m\u001b[43m)\u001b[49m\n",
      "File \u001b[0;32mscikits/odes/sundials/cvode.pyx:1763\u001b[0m, in \u001b[0;36mscikits.odes.sundials.cvode.CVODE.solve\u001b[0;34m()\u001b[0m\n",
      "File \u001b[0;32m~/miniconda3/envs/skimpy-env/lib/python3.8/enum.py:339\u001b[0m, in \u001b[0;36mEnumMeta.__call__\u001b[0;34m(cls, value, names, module, qualname, type, start)\u001b[0m\n\u001b[1;32m    314\u001b[0m \u001b[38;5;250m\u001b[39m\u001b[38;5;124;03m\"\"\"\u001b[39;00m\n\u001b[1;32m    315\u001b[0m \u001b[38;5;124;03mEither returns an existing member, or creates a new enum class.\u001b[39;00m\n\u001b[1;32m    316\u001b[0m \n\u001b[0;32m   (...)\u001b[0m\n\u001b[1;32m    336\u001b[0m \u001b[38;5;124;03m`type`, if set, will be mixed in as the first base class.\u001b[39;00m\n\u001b[1;32m    337\u001b[0m \u001b[38;5;124;03m\"\"\"\u001b[39;00m\n\u001b[1;32m    338\u001b[0m \u001b[38;5;28;01mif\u001b[39;00m names \u001b[38;5;129;01mis\u001b[39;00m \u001b[38;5;28;01mNone\u001b[39;00m:  \u001b[38;5;66;03m# simple value lookup\u001b[39;00m\n\u001b[0;32m--> 339\u001b[0m     \u001b[38;5;28;01mreturn\u001b[39;00m \u001b[38;5;28;43mcls\u001b[39;49m\u001b[38;5;241;43m.\u001b[39;49m\u001b[38;5;21;43m__new__\u001b[39;49m(\u001b[38;5;28mcls\u001b[39m, value)\n\u001b[1;32m    340\u001b[0m \u001b[38;5;66;03m# otherwise, functional API: we're creating a new Enum type\u001b[39;00m\n\u001b[1;32m    341\u001b[0m \u001b[38;5;28;01mreturn\u001b[39;00m \u001b[38;5;28mcls\u001b[39m\u001b[38;5;241m.\u001b[39m_create_(\n\u001b[1;32m    342\u001b[0m         value,\n\u001b[1;32m    343\u001b[0m         names,\n\u001b[0;32m   (...)\u001b[0m\n\u001b[1;32m    347\u001b[0m         start\u001b[38;5;241m=\u001b[39mstart,\n\u001b[1;32m    348\u001b[0m         )\n",
      "\u001b[0;31mSystemError\u001b[0m: <method-wrapper '__getattribute__' of EnumMeta object at 0x558dbe47db50> returned a result with an error set"
     ]
    }
   ],
   "source": [
    "steady_states_sample = int(configs['BIOREACTOR_SIMULATION']['steady_states_sample'])\n",
    "\n",
    "list_dicts = []\n",
    "for this_model in kinetic_models:\n",
    "    print(this_model)\n",
    "    tfa_ix = steady_states_sample\n",
    "\n",
    "    tfa_sample = pd.read_csv(path_to_tfa_samples, header=0, index_col=0).iloc[int(tfa_ix)]\n",
    "    parameter_set = parameter_population['{}'.format(this_model)]\n",
    "    kmodel.parameters = parameter_set\n",
    "\n",
    "    # Load fluxes and concentrations\n",
    "    fluxes = load_fluxes(tfa_sample, tmodel, kmodel,\n",
    "                         density=DENSITY,\n",
    "                         ratio_gdw_gww=GDW_GWW_RATIO,\n",
    "                         concentration_scaling=CONCENTRATION_SCALING,\n",
    "                         time_scaling=TIME_SCALING)\n",
    "\n",
    "    concentrations = load_concentrations(tfa_sample, tmodel, kmodel,\n",
    "                                         concentration_scaling=CONCENTRATION_SCALING)\n",
    "\n",
    "    # Fetch equilibrium constants\n",
    "    load_equilibrium_constants(tfa_sample, tmodel, kmodel,\n",
    "                               concentration_scaling=CONCENTRATION_SCALING,\n",
    "                               in_place=True)\n",
    "\n",
    "    def reset_reactor():\n",
    "        reactor.parametrize(parameter_set, 'strain_1')\n",
    "        reactor.initialize(concentrations, 'strain_1')\n",
    "        reactor.initial_conditions['biomass_strain_1'] = 0.037 * 0.05 / 0.28e-12\n",
    "\n",
    "        for met_ in reactor.medium.keys():\n",
    "            LC_id = 'LC_' + met_\n",
    "            LC_id = LC_id.replace('_L', '-L')\n",
    "            LC_id = LC_id.replace('_D', '-D')\n",
    "            reactor.initial_conditions[met_] = np.exp(tfa_sample.loc[LC_id]) * 1e9\n",
    "\n",
    "        # Volume settings\n",
    "        reactor.models.strain_1.parameters.strain_1_volume_e.value = reactor_volume\n",
    "        reactor.models.strain_1.parameters.strain_1_cell_volume_e.value = 1.0  # 1.0 #(mum**3) look up cell volume bionumbers\n",
    "        reactor.models.strain_1.parameters.strain_1_cell_volume_c.value = 1.0  # 1.0 #(mum**3)\n",
    "        reactor.models.strain_1.parameters.strain_1_cell_volume_p.value = 1.0  # 1.0 #(mum**3)\n",
    "        reactor.models.strain_1.parameters.strain_1_volume_c.value = 0.9 * 1.0  # (mum**3)\n",
    "        reactor.models.strain_1.parameters.strain_1_volume_p.value = 0.1 * 1.0  # (mum**3)\n",
    "\n",
    "    reset_reactor()\n",
    "    print('Running ode solver...')\n",
    "    sol_ode_wt = reactor.solve_ode(np.linspace(0, TOTAL_TIME, N_STEPS),\n",
    "                                    solver_type='cvode',\n",
    "                                    rtol=1e-9,\n",
    "                                    atol=1e-9,\n",
    "                                    max_steps=1e9,\n",
    "                                    )\n",
    "    \"\"\"    \n",
    "    Test each unique design in a reactor setting for this kinetic model using NRA    \n",
    "    \"\"\"\n",
    "\n",
    "    for ix_design, this_design in enumerate(list_of_designs):\n",
    "\n",
    "        reset_reactor()\n",
    "\n",
    "        # Deregulate DDPA since all designs have it as a target\n",
    "        reactor.parameters['strain_1_ki_inhibitor1_DDPA'].value = 1e42\n",
    "        reactor.parameters['strain_1_k_inhibition_IM_phe_L_c_DDPA'].value = 1e42\n",
    "\n",
    "        # Manipulate the enzymes according to the design\n",
    "        # for e in this_design:\n",
    "\n",
    "        #     # Get NRA suggested fold change for this enz for this model for this design\n",
    "        #     fold_change_row = df_enz_act[(df_enz_act['Enzyme'] == e) &\n",
    "        #                                  (df_enz_act['design_ix'] == ix_design) &\n",
    "        #                                  (df_enz_act['model'] == this_model)]\n",
    "        #     enz_fold_change = fold_change_row['Fold-change'].values[0]\n",
    "\n",
    "        #     parameter_name = \"vmax_forward_\" + e[3:]\n",
    "        #     if 'ED_' in e:\n",
    "        #         reactor.parameters['strain_1_' + parameter_name].value *= np.exp(-enz_fold_change)\n",
    "        #     elif 'EU_' in e:\n",
    "        #         reactor.parameters['strain_1_' + parameter_name].value *= np.exp(enz_fold_change)\n",
    "\n",
    "        print('Solving design {}'.format(ix_design))\n",
    "        sol_ode = reactor.solve_ode(np.linspace(0, TOTAL_TIME, N_STEPS),\n",
    "                                    solver_type='cvode',\n",
    "                                    rtol=1e-9,\n",
    "                                    atol=1e-9,\n",
    "                                    max_steps=1e9,\n",
    "                                    )\n",
    "\n",
    "        # Store all values in the dictionary\n",
    "        dict_ = {'model': this_model,\n",
    "                 'design_ix': ix_design,\n",
    "                 'E1': this_design[0],\n",
    "                 'E2': this_design[1],\n",
    "                 'E3': this_design[2],\n",
    "                 'ode_sol_design': sol_ode,\n",
    "                 'ode_sol_wt': sol_ode_wt,\n",
    "                 }\n",
    "        list_dicts.append(dict_)\n",
    "\n",
    "\n",
    "df_ = pd.DataFrame(list_dicts)\n",
    "concentrations_to_plot = {'glc_D_e': 1 / CONCENTRATION_SCALING,\n",
    "                          'anth_e': 136.13 / CONCENTRATION_SCALING,\n",
    "                          'biomass_strain_1': 0.28e-12 / 0.05}\n",
    "\n"
   ]
  },
  {
   "cell_type": "code",
   "execution_count": null,
   "metadata": {},
   "outputs": [],
   "source": []
  },
  {
   "cell_type": "code",
   "execution_count": null,
   "metadata": {},
   "outputs": [],
   "source": [
    "import matplotlib.pyplot as plt\n",
    "\n",
    "# Group the solutions by design and plot them (wt vs design)\n",
    "for name, group in df_.groupby('design_ix'):\n",
    "    df_sols_designs = []\n",
    "    df_sols_wt = []\n",
    "\n",
    "    for index, this_row in group.iterrows():\n",
    "        this_ode_sol_design = this_row['ode_sol_design'].concentrations\n",
    "        this_ode_sol_wt = this_row['ode_sol_wt'].concentrations\n",
    "        this_ode_sol_wt['time'] = this_row['ode_sol_wt'].time\n",
    "        this_ode_sol_design['time'] = this_row['ode_sol_design'].time\n",
    "        df_sols_designs.append(this_ode_sol_design)\n",
    "        df_sols_wt.append(this_ode_sol_wt)\n",
    "\n",
    "    df_sols_designs = pd.concat(df_sols_designs)\n",
    "    df_sols_wt = pd.concat(df_sols_wt)\n",
    "\n",
    "    df_sols_designs.to_csv(folder_for_output + '/design_{}_ode_sols.csv'.format(name))\n",
    "\n",
    "    df_wt_mean = df_sols_wt.groupby('time').quantile(0.5)\n",
    "    df_wt_upper = df_sols_wt.groupby('time').quantile(0.75)\n",
    "    df_wt_lower = df_sols_wt.groupby('time').quantile(0.25)\n",
    "\n",
    "    df_designs_mean = df_sols_designs.groupby('time').quantile(0.5)\n",
    "    df_designs_upper = df_sols_designs.groupby('time').quantile(0.75)\n",
    "    df_designs_lower = df_sols_designs.groupby('time').quantile(0.25)\n",
    "\n",
    "    for conc, scaling in concentrations_to_plot.items():\n",
    "\n",
    "        time = df_wt_mean.index\n",
    "        # Plot wildtype\n",
    "        plt.plot(time, df_wt_mean[conc] * scaling, color='orange', label='wt')\n",
    "        plt.fill_between(time, df_wt_lower[conc] * scaling, df_wt_upper[conc] * scaling, facecolor='orange',\n",
    "                         interpolate=True,\n",
    "                         alpha=0.1)\n",
    "\n",
    "        # Plot design alternatives\n",
    "        plt.plot(time, df_designs_mean[conc] * scaling, color='blue', label='nra')\n",
    "        plt.fill_between(time, df_designs_lower[conc] * scaling, df_designs_upper[conc] * scaling,\n",
    "                         facecolor='blue',\n",
    "                         interpolate=True,\n",
    "                         alpha=0.1)\n",
    "\n",
    "        plt.legend()\n",
    "        plt.xlabel('time (h)')\n",
    "        plt.ylabel(conc.replace('strain_1', '') + ' (g/L)')\n",
    "        plt.savefig(folder_for_output + '/design_{}_combined_{}.png'.format(name, conc))\n",
    "        plt.close()\n",
    "\n",
    "df_sols_wt.to_csv(folder_for_output + '/ode_sols_wt.csv')"
   ]
  },
  {
   "cell_type": "code",
   "execution_count": null,
   "metadata": {},
   "outputs": [],
   "source": []
  }
 ],
 "metadata": {
  "kernelspec": {
   "display_name": "skimpy-env",
   "language": "python",
   "name": "python3"
  },
  "language_info": {
   "codemirror_mode": {
    "name": "ipython",
    "version": 3
   },
   "file_extension": ".py",
   "mimetype": "text/x-python",
   "name": "python",
   "nbconvert_exporter": "python",
   "pygments_lexer": "ipython3",
   "version": "3.8.18"
  }
 },
 "nbformat": 4,
 "nbformat_minor": 2
}
