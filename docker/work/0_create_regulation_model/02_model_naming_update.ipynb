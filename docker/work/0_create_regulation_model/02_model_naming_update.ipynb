{
 "cells": [
  {
   "cell_type": "code",
   "execution_count": 4,
   "metadata": {},
   "outputs": [
    {
     "name": "stdout",
     "output_type": "stream",
     "text": [
      "The model.yaml file has been updated and saved as model_fixed.yaml.\n"
     ]
    }
   ],
   "source": [
    "import csv\n",
    "import yaml\n",
    "\n",
    "# Step 1: Read the mappings from the CSV file into a dictionary\n",
    "replacements = {}\n",
    "with open('fix_model.csv', mode='r', newline='') as csvfile:\n",
    "    csvreader = csv.reader(csvfile)\n",
    "    for row in csvreader:\n",
    "        old, new = row\n",
    "        replacements[old] = new\n",
    "\n",
    "# Step 2: Load the model.yaml content\n",
    "with open('kinetic_model_scaffold.yaml', 'r') as file:\n",
    "    content = file.read()\n",
    "\n",
    "# Step 3: Replace names based on the mappings\n",
    "for old_name, new_name in replacements.items():\n",
    "    content = content.replace(old_name, new_name)\n",
    "\n",
    "# Step 4: Write the updated content back to a new YAML file\n",
    "with open('./output/ecoli_model_name_fixed.yaml', 'w') as file:\n",
    "    file.write(content)\n",
    "\n",
    "print(\"The model.yaml file has been updated and saved as model_fixed.yaml.\")\n",
    "\n"
   ]
  },
  {
   "cell_type": "code",
   "execution_count": 5,
   "metadata": {},
   "outputs": [
    {
     "name": "stdout",
     "output_type": "stream",
     "text": [
      "The sample_parameters file has been updated and saved as sample_parameters_name.\n"
     ]
    }
   ],
   "source": [
    "# Step 2: Load the model.yaml content\n",
    "with open('sample_parameters.csv', 'r') as file:\n",
    "    content = file.read()\n",
    "\n",
    "# Step 3: Replace names based on the mappings\n",
    "for old_name, new_name in replacements.items():\n",
    "    content = content.replace(old_name, new_name)\n",
    "\n",
    "# Step 4: Write the updated content back to a new YAML file\n",
    "with open('output/kinetic_param_regulation_ecoli.csv', 'w') as file:\n",
    "    file.write(content)\n",
    "\n",
    "print(\"The sample_parameters file has been updated and saved as sample_parameters_name.\")"
   ]
  }
 ],
 "metadata": {
  "kernelspec": {
   "display_name": "Python 3",
   "language": "python",
   "name": "python3"
  },
  "language_info": {
   "codemirror_mode": {
    "name": "ipython",
    "version": 3
   },
   "file_extension": ".py",
   "mimetype": "text/x-python",
   "name": "python",
   "nbconvert_exporter": "python",
   "pygments_lexer": "ipython3",
   "version": "3.6.14"
  }
 },
 "nbformat": 4,
 "nbformat_minor": 2
}
