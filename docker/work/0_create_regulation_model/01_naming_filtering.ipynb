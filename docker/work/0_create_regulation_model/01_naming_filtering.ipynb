{
 "cells": [
  {
   "cell_type": "code",
   "execution_count": 19,
   "metadata": {},
   "outputs": [
    {
     "data": {
      "text/plain": [
       "'/home/techen/thesis/code/docker/work/preprocessing'"
      ]
     },
     "execution_count": 19,
     "metadata": {},
     "output_type": "execute_result"
    }
   ],
   "source": [
    "import os, sys\n",
    "import time\n",
    "import yaml\n",
    "import h5py\n",
    "import pickle\n",
    "import numpy as np\n",
    "import pandas as pd\n",
    "import matplotlib.pyplot as plt\n",
    "\n",
    "os.getcwd()"
   ]
  },
  {
   "cell_type": "code",
   "execution_count": 20,
   "metadata": {},
   "outputs": [],
   "source": [
    "# fetch training set parameters\n",
    "path_parameters = f'../models/ecoli_shikki_regulation/parameters/kinetic_params_top_10_models.hdf5'"
   ]
  },
  {
   "cell_type": "code",
   "execution_count": 34,
   "metadata": {},
   "outputs": [
    {
     "data": {
      "text/plain": [
       "['index',\n",
       " 'num_parameters_sets',\n",
       " 'parameter_names',\n",
       " 'parameter_set_0',\n",
       " 'parameter_set_1',\n",
       " 'parameter_set_2',\n",
       " 'parameter_set_3',\n",
       " 'parameter_set_4',\n",
       " 'parameter_set_5',\n",
       " 'parameter_set_6',\n",
       " 'parameter_set_7',\n",
       " 'parameter_set_8',\n",
       " 'parameter_set_9']"
      ]
     },
     "execution_count": 34,
     "metadata": {},
     "output_type": "execute_result"
    }
   ],
   "source": [
    "# get the data and processed\n",
    "f = h5py.File(path_parameters, 'r')\n",
    "column = list(f.keys())\n",
    "row = f['parameter_names'][:]"
   ]
  },
  {
   "cell_type": "code",
   "execution_count": 37,
   "metadata": {},
   "outputs": [
    {
     "name": "stdout",
     "output_type": "stream",
     "text": [
      "                       parameter_set_0  parameter_set_1  parameter_set_2  \\\n",
      "parameter_name                                                             \n",
      "km_substrate_ACALDtpp     3.205126e+02     3.205835e+02     3.207556e+02   \n",
      "km_product_ACALDtpp       1.144094e+03     1.096255e+03     8.144580e+02   \n",
      "km_substrate_ACONTa       8.179616e+06     8.404188e+06     7.761375e+06   \n",
      "km_product_ACONTa         9.437536e+03     8.859419e+03     9.869726e+03   \n",
      "km_substrate_ACONTb       5.606732e+03     5.263280e+03     5.863492e+03   \n",
      "...                                ...              ...              ...   \n",
      "km_substrate1_TALA        1.476716e+06     1.468306e+06     1.377196e+06   \n",
      "km_product1_TALA          4.694990e+06     4.616141e+06     4.795378e+06   \n",
      "km_substrate2_TALA        1.843712e+05     1.713190e+05     1.846136e+05   \n",
      "km_product2_TALA          5.565955e+05     5.687314e+05     5.232704e+05   \n",
      "ki_inhibitor1_TALA        4.500278e+06     4.518512e+06     5.062824e+06   \n",
      "\n",
      "                       parameter_set_3  parameter_set_4  parameter_set_5  \\\n",
      "parameter_name                                                             \n",
      "km_substrate_ACALDtpp     2.277611e+02     1.728885e+02     3.120516e+02   \n",
      "km_product_ACALDtpp       4.342442e+02     6.588300e+02     3.520153e+02   \n",
      "km_substrate_ACONTa       3.439662e+06     3.447419e+06     7.002213e+06   \n",
      "km_product_ACONTa         5.267788e+04     7.962041e+04     1.396368e+04   \n",
      "km_substrate_ACONTb       4.790293e+03     7.240327e+03     8.295663e+03   \n",
      "...                                ...              ...              ...   \n",
      "km_substrate1_TALA        3.753340e+04     3.601181e+04     1.346246e+06   \n",
      "km_product1_TALA          7.417834e+05     8.023239e+05     7.091563e+06   \n",
      "km_substrate2_TALA        3.820432e+05     6.453297e+05     2.217392e+05   \n",
      "km_product2_TALA          1.701280e+04     1.304379e+04     4.446142e+05   \n",
      "ki_inhibitor1_TALA        4.532563e+04     2.787002e+04     3.873711e+06   \n",
      "\n",
      "                       parameter_set_6  parameter_set_7  parameter_set_8  \\\n",
      "parameter_name                                                             \n",
      "km_substrate_ACALDtpp     1.374598e+02     1.334363e+02     3.316916e+02   \n",
      "km_product_ACALDtpp       1.435223e+02     7.484552e+01     1.793280e+02   \n",
      "km_substrate_ACONTa       8.477839e+06     6.825164e+06     6.200634e+06   \n",
      "km_product_ACONTa         1.725880e+04     1.563605e+04     1.289539e+04   \n",
      "km_substrate_ACONTb       1.025326e+04     9.289199e+03     7.661006e+03   \n",
      "...                                ...              ...              ...   \n",
      "km_substrate1_TALA        1.087646e+06     1.115546e+06     1.603325e+06   \n",
      "km_product1_TALA          6.351196e+06     6.721705e+06     6.810993e+06   \n",
      "km_substrate2_TALA        2.576957e+05     2.468707e+05     2.839299e+05   \n",
      "km_product2_TALA          8.730934e+05     8.780847e+05     9.505526e+05   \n",
      "ki_inhibitor1_TALA        5.160588e+06     5.747176e+06     4.265435e+06   \n",
      "\n",
      "                       parameter_set_9  \n",
      "parameter_name                          \n",
      "km_substrate_ACALDtpp     2.500761e+02  \n",
      "km_product_ACALDtpp       1.542727e+02  \n",
      "km_substrate_ACONTa       6.498025e+06  \n",
      "km_product_ACONTa         1.088144e+04  \n",
      "km_substrate_ACONTb       6.464542e+03  \n",
      "...                                ...  \n",
      "km_substrate1_TALA        1.570446e+06  \n",
      "km_product1_TALA          7.678573e+06  \n",
      "km_substrate2_TALA        2.325057e+05  \n",
      "km_product2_TALA          9.030347e+05  \n",
      "ki_inhibitor1_TALA        4.183689e+06  \n",
      "\n",
      "[490 rows x 10 columns]\n"
     ]
    }
   ],
   "source": [
    "data = []\n",
    "# Open the HDF5 file\n",
    "with h5py.File(path_parameters, 'r') as file:\n",
    "    parameter_names = file['parameter_names'][()]\n",
    "    # Initialize a dictionary to hold your data\n",
    "    data = {'parameter_name': parameter_names}\n",
    "    for i in range(10):  # Assuming there are 10 parameter sets\n",
    "        data_key = f'parameter_set_{i}'\n",
    "        data[data_key] = file[data_key][()]\n",
    "    \n",
    "# Create DataFrame\n",
    "df = pd.DataFrame(data)\n",
    "df.set_index('parameter_name', inplace=True)\n",
    "\n",
    "# Filter rows\n",
    "filtered_df = df.filter(regex='^(km_|ki_|k_act|k_inh)', axis=0)\n",
    "\n",
    "print(filtered_df)"
   ]
  },
  {
   "cell_type": "code",
   "execution_count": null,
   "metadata": {},
   "outputs": [],
   "source": [
    "filtered_df.to_csv('filtered_regulation_ecoli')"
   ]
  }
 ],
 "metadata": {
  "kernelspec": {
   "display_name": "Python 3",
   "language": "python",
   "name": "python3"
  },
  "language_info": {
   "codemirror_mode": {
    "name": "ipython",
    "version": 3
   },
   "file_extension": ".py",
   "mimetype": "text/x-python",
   "name": "python",
   "nbconvert_exporter": "python",
   "pygments_lexer": "ipython3",
   "version": "3.6.15"
  }
 },
 "nbformat": 4,
 "nbformat_minor": 2
}
