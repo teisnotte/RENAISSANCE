{
 "cells": [
  {
   "cell_type": "markdown",
   "metadata": {},
   "source": [
    "# This is the new version of Skimpy from github"
   ]
  },
  {
   "cell_type": "code",
   "execution_count": 6,
   "metadata": {},
   "outputs": [
    {
     "name": "stderr",
     "output_type": "stream",
     "text": [
      "2024-03-01 18:14:50,684 - Unnamed - WARNING - Non integer stoichiometries found ['CYTBO3_4pp', 'LMPD_biomass_c_1_420', 'CYTBDpp'] change to integer for linear dependencies\n"
     ]
    },
    {
     "name": "stdout",
     "output_type": "stream",
     "text": [
      "These parameters are omitted due to KeyError: \n",
      "['hill_coefficient_ATPM', 'k1_bwd_ACALDtex', 'k1_bwd_ACtex', 'k1_bwd_AKGtex', 'k1_bwd_CO2tex', 'k1_bwd_D-LACtex', 'k1_bwd_ETOHtex', 'k1_bwd_FORtex', 'k1_bwd_GLCtex', 'k1_bwd_GLUtex', 'k1_bwd_Htex', 'k1_bwd_MALtex', 'k1_bwd_NH4tex', 'k1_bwd_O2tex', 'k1_bwd_PHEtex', 'k1_bwd_PYRtex', 'k1_bwd_SERtex', 'k1_bwd_SUCCtex', 'k1_bwd_TRPtex', 'k1_bwd_TYRtex', 'k1_fwd_ACALDtex', 'k1_fwd_ACtex', 'k1_fwd_AKGtex', 'k1_fwd_CO2tex', 'k1_fwd_D-LACtex', 'k1_fwd_ETOHtex', 'k1_fwd_FORtex', 'k1_fwd_GLCtex', 'k1_fwd_GLUtex', 'k1_fwd_Htex', 'k1_fwd_MALtex', 'k1_fwd_NH4tex', 'k1_fwd_O2tex', 'k1_fwd_PHEtex', 'k1_fwd_PYRtex', 'k1_fwd_SERtex', 'k1_fwd_SUCCtex', 'k1_fwd_TRPtex', 'k1_fwd_TYRtex', 'k2_bwd_ACALDtex', 'k2_bwd_ACtex', 'k2_bwd_AKGtex', 'k2_bwd_CO2tex', 'k2_bwd_D-LACtex', 'k2_bwd_ETOHtex', 'k2_bwd_FORtex', 'k2_bwd_GLCtex', 'k2_bwd_GLUtex', 'k2_bwd_Htex', 'k2_bwd_MALtex', 'k2_bwd_NH4tex', 'k2_bwd_O2tex', 'k2_bwd_PHEtex', 'k2_bwd_PYRtex', 'k2_bwd_SERtex', 'k2_bwd_SUCCtex', 'k2_bwd_TRPtex', 'k2_bwd_TYRtex', 'k2_fwd_ACALDtex', 'k2_fwd_ACtex', 'k2_fwd_AKGtex', 'k2_fwd_CO2tex', 'k2_fwd_D-LACtex', 'k2_fwd_ETOHtex', 'k2_fwd_FORtex', 'k2_fwd_GLCtex', 'k2_fwd_GLUtex', 'k2_fwd_Htex', 'k2_fwd_MALtex', 'k2_fwd_NH4tex', 'k2_fwd_O2tex', 'k2_fwd_PHEtex', 'k2_fwd_PYRtex', 'k2_fwd_SERtex', 'k2_fwd_SUCCtex', 'k2_fwd_TRPtex', 'k2_fwd_TYRtex', 'k_equilibrium_ATPM', 'k_equilibrium_FDH4pp', 'k_equilibrium_NADH16pp', 'k_equilibrium_NADH5', 'kcat_forward_ACALDtex', 'kcat_forward_ACtex', 'kcat_forward_AKGtex', 'kcat_forward_CO2tex', 'kcat_forward_D-LACtex', 'kcat_forward_ETOHtex', 'kcat_forward_FORtex', 'kcat_forward_GLCtex', 'kcat_forward_GLUtex', 'kcat_forward_Htex', 'kcat_forward_MALtex', 'kcat_forward_NH4tex', 'kcat_forward_O2tex', 'kcat_forward_PHEtex', 'kcat_forward_PYRtex', 'kcat_forward_SERtex', 'kcat_forward_SUCCtex', 'kcat_forward_TRPtex', 'kcat_forward_TYRtex', 'km_product_ACALDtex', 'km_product_ACtex', 'km_product_AKGtex', 'km_product_CO2tex', 'km_product_D-LACtex', 'km_product_ETOHtex', 'km_product_FORtex', 'km_product_GLCtex', 'km_product_GLUtex', 'km_product_Htex', 'km_product_MALtex', 'km_product_NH4tex', 'km_product_O2tex', 'km_product_PHEtex', 'km_product_PYRtex', 'km_product_SERtex', 'km_product_SUCCtex', 'km_product_TRPtex', 'km_product_TYRtex', 'km_substrate30_LMPD_biomass_c_1_420', 'km_substrate_ACALDtex', 'km_substrate_ACtex', 'km_substrate_AKGtex', 'km_substrate_ATPM', 'km_substrate_CO2tex', 'km_substrate_D-LACtex', 'km_substrate_ETOHtex', 'km_substrate_FORtex', 'km_substrate_GLCtex', 'km_substrate_GLUtex', 'km_substrate_Htex', 'km_substrate_MALtex', 'km_substrate_NH4tex', 'km_substrate_O2tex', 'km_substrate_PHEtex', 'km_substrate_PYRtex', 'km_substrate_SERtex', 'km_substrate_SUCCtex', 'km_substrate_TRPtex', 'km_substrate_TYRtex', 'total_enzyme_concentration_ACALDtex', 'total_enzyme_concentration_ACtex', 'total_enzyme_concentration_AKGtex', 'total_enzyme_concentration_CO2tex', 'total_enzyme_concentration_D-LACtex', 'total_enzyme_concentration_ETOHtex', 'total_enzyme_concentration_FORtex', 'total_enzyme_concentration_GLCtex', 'total_enzyme_concentration_GLUtex', 'total_enzyme_concentration_Htex', 'total_enzyme_concentration_MALtex', 'total_enzyme_concentration_NH4tex', 'total_enzyme_concentration_O2tex', 'total_enzyme_concentration_PHEtex', 'total_enzyme_concentration_PYRtex', 'total_enzyme_concentration_SERtex', 'total_enzyme_concentration_SUCCtex', 'total_enzyme_concentration_TRPtex', 'total_enzyme_concentration_TYRtex', 'vmax_backward_ACALDtex', 'vmax_backward_ACtex', 'vmax_backward_AKGtex', 'vmax_backward_ATPM', 'vmax_backward_CO2tex', 'vmax_backward_D-LACtex', 'vmax_backward_ETOHtex', 'vmax_backward_FORtex', 'vmax_backward_GLCtex', 'vmax_backward_GLUtex', 'vmax_backward_Htex', 'vmax_backward_MALtex', 'vmax_backward_NH4tex', 'vmax_backward_O2tex', 'vmax_backward_PHEtex', 'vmax_backward_PYRtex', 'vmax_backward_SERtex', 'vmax_backward_SUCCtex', 'vmax_backward_TRPtex', 'vmax_backward_TYRtex']\n"
     ]
    }
   ],
   "source": [
    "from skimpy.io.yaml import load_yaml_model, export_to_yaml\n",
    "\n",
    "met_model = 'ecoli_shikki_regulation'\n",
    "base = f'.'\n",
    "path_to_kmodel = f'{base}/kinetic_model_scaffold.yaml'\n",
    "output_model_path = f'{base}/output/kin_varma_curated_regulation.yaml'\n",
    "kmodel = load_yaml_model(path_to_kmodel)"
   ]
  },
  {
   "cell_type": "code",
   "execution_count": 7,
   "metadata": {},
   "outputs": [
    {
     "name": "stdout",
     "output_type": "stream",
     "text": [
      "TabDict([('DSM_h_c', <skimpy.core.modifiers.DisplacementSmallMoleculeModifier object at 0x7f2e43185da0>), ('DSM_h_p', <skimpy.core.modifiers.DisplacementSmallMoleculeModifier object at 0x7f2e43185278>)])\n",
      "Added regulation reaction ACALD of with <skimpy.mechanisms.convenience_with_inihibition.make_convenience_with_inhibition.<locals>.ConvenienceInhibited object at 0x7f2e431b6978> kinetics \n",
      "Added regulation reaction ADK1 of with <skimpy.mechanisms.convenience_with_inihibition.make_convenience_with_inhibition.<locals>.ConvenienceInhibited object at 0x7f2e431b6a90> kinetics \n",
      "Added regulation reaction ANS of with <skimpy.mechanisms.convenience_with_inihibition.make_convenience_with_inhibition.<locals>.ConvenienceInhibited object at 0x7f2e431b6ef0> kinetics \n",
      "Added regulation reaction CHORM of with <skimpy.mechanisms.generalized_reversible_hill_n_n_h1_with_inhibition.make_generalized_reversible_hill_n_n_h1_with_inhibition.<locals>.H1GeneralizedReversibleHillInhibited object at 0x7f2e431b67b8> kinetics \n",
      "Added regulation reaction DDPA of with <skimpy.mechanisms.generalized_reversible_hill_n_n_h1_with_inhibition.make_generalized_reversible_hill_n_n_h1_with_inhibition.<locals>.H1GeneralizedReversibleHillInhibited object at 0x7f2e431b61d0> kinetics \n",
      "Added regulation reaction DHQTi of with <skimpy.mechanisms.generalized_reversible_hill_n_n_h1_with_inhibition.make_generalized_reversible_hill_n_n_h1_with_inhibition.<locals>.H1GeneralizedReversibleHillInhibited object at 0x7f2e431b69b0> kinetics \n",
      "Added regulation reaction FBA of with <skimpy.mechanisms.convenience_with_inihibition.make_convenience_with_inhibition.<locals>.ConvenienceInhibited object at 0x7f2e431b6b00> kinetics \n",
      "Added regulation reaction FBP of with <skimpy.mechanisms.convenience_with_inihibition.make_convenience_with_inhibition.<locals>.ConvenienceInhibited object at 0x7f2e431b6eb8> kinetics \n",
      "Added regulation reaction FUM of with <skimpy.mechanisms.generalized_reversible_hill_n_n_h1_with_inhibition.make_generalized_reversible_hill_n_n_h1_with_inhibition.<locals>.H1GeneralizedReversibleHillInhibited object at 0x7f2e431c6630> kinetics \n",
      "Added regulation reaction G6PDH2r of with <skimpy.mechanisms.generalized_reversible_hill_n_n_h1_with_inhibition.make_generalized_reversible_hill_n_n_h1_with_inhibition.<locals>.H1GeneralizedReversibleHillInhibited object at 0x7f2e431b6780> kinetics \n",
      "Added regulation reaction GLNS of with <skimpy.mechanisms.generalized_reversible_hill_n_n_h1_with_inhibition.make_generalized_reversible_hill_n_n_h1_with_inhibition.<locals>.H1GeneralizedReversibleHillInhibited object at 0x7f2e431c69e8> kinetics \n",
      "Added regulation reaction GLUDy of with <skimpy.mechanisms.convenience.make_convenience.<locals>.Convenience object at 0x7f2e431b6be0> kinetics \n",
      "Added regulation reaction GND of with <skimpy.mechanisms.convenience_with_inihibition.make_convenience_with_inhibition.<locals>.ConvenienceInhibited object at 0x7f2e431c6940> kinetics \n",
      "Added regulation reaction ICDHyr of with <skimpy.mechanisms.convenience_with_inihibition.make_convenience_with_inhibition.<locals>.ConvenienceInhibited object at 0x7f2e431c6fd0> kinetics \n",
      "Added regulation reaction ICL of with <skimpy.mechanisms.convenience_with_inihibition.make_convenience_with_inhibition.<locals>.ConvenienceInhibited object at 0x7f2e431c6cf8> kinetics \n",
      "Added regulation reaction LDH_D of with <skimpy.mechanisms.generalized_reversible_hill_n_n_h1_with_inhibition.make_generalized_reversible_hill_n_n_h1_with_inhibition.<locals>.H1GeneralizedReversibleHillInhibited object at 0x7f2e431c63c8> kinetics \n",
      "Added regulation reaction ME1 of with <skimpy.mechanisms.convenience_with_inihibition.make_convenience_with_inhibition.<locals>.ConvenienceInhibited object at 0x7f2e431c6438> kinetics \n",
      "Added regulation reaction PGCD of with <skimpy.mechanisms.generalized_reversible_hill_n_n_h1_with_inhibition.make_generalized_reversible_hill_n_n_h1_with_inhibition.<locals>.H1GeneralizedReversibleHillInhibited object at 0x7f2e43264438> kinetics \n",
      "Added regulation reaction PGI of with <skimpy.mechanisms.generalized_reversible_hill_n_n_h1_with_inhibition.make_generalized_reversible_hill_n_n_h1_with_inhibition.<locals>.H1GeneralizedReversibleHillInhibited object at 0x7f2e431c69b0> kinetics \n",
      "Added regulation reaction PGK of with <skimpy.mechanisms.generalized_reversible_hill_n_n_h1.make_generalized_reversible_hill_n_n_h1.<locals>.H1GeneralizedReversibleHill object at 0x7f2e431b6048> kinetics \n",
      "Added regulation reaction PPC of with <skimpy.mechanisms.generalized_reversible_hill_n_n_h1_with_inhibition.make_generalized_reversible_hill_n_n_h1_with_inhibition.<locals>.H1GeneralizedReversibleHillInhibited object at 0x7f2e431c6c88> kinetics \n",
      "Added regulation reaction PPCK of with <skimpy.mechanisms.convenience_with_inihibition.make_convenience_with_inhibition.<locals>.ConvenienceInhibited object at 0x7f2e43264a20> kinetics \n",
      "Added regulation reaction PPND of with <skimpy.mechanisms.convenience_with_inihibition.make_convenience_with_inhibition.<locals>.ConvenienceInhibited object at 0x7f2e43260cc0> kinetics \n",
      "Added regulation reaction PPNDH of with <skimpy.mechanisms.convenience_with_inihibition.make_convenience_with_inhibition.<locals>.ConvenienceInhibited object at 0x7f2e43264208> kinetics \n",
      "Added regulation reaction PPS of with <skimpy.mechanisms.convenience_with_inihibition.make_convenience_with_inhibition.<locals>.ConvenienceInhibited object at 0x7f2e43264240> kinetics \n",
      "Added regulation reaction PRPPS of with <skimpy.mechanisms.generalized_reversible_hill_n_n_h1_with_inhibition.make_generalized_reversible_hill_n_n_h1_with_inhibition.<locals>.H1GeneralizedReversibleHillInhibited object at 0x7f2e43260f28> kinetics \n",
      "Added regulation reaction PSCVT of with <skimpy.mechanisms.generalized_reversible_hill_n_n_h1_with_inhibition.make_generalized_reversible_hill_n_n_h1_with_inhibition.<locals>.H1GeneralizedReversibleHillInhibited object at 0x7f2e43264278> kinetics \n",
      "Added regulation reaction PSP_L of with <skimpy.mechanisms.convenience_with_inihibition.make_convenience_with_inhibition.<locals>.ConvenienceInhibited object at 0x7f2e43260ef0> kinetics \n",
      "Added regulation reaction RPI of with <skimpy.mechanisms.generalized_reversible_hill_n_n_h1_with_inhibition.make_generalized_reversible_hill_n_n_h1_with_inhibition.<locals>.H1GeneralizedReversibleHillInhibited object at 0x7f2e432644a8> kinetics \n",
      "Added regulation reaction SUCOAS of with <skimpy.mechanisms.generalized_reversible_hill_n_n_h1_with_inhibition.make_generalized_reversible_hill_n_n_h1_with_inhibition.<locals>.H1GeneralizedReversibleHillInhibited object at 0x7f2e431b6c18> kinetics \n",
      "Added regulation reaction TALA of with <skimpy.mechanisms.generalized_reversible_hill_n_n_h1_with_inhibition.make_generalized_reversible_hill_n_n_h1_with_inhibition.<locals>.H1GeneralizedReversibleHillInhibited object at 0x7f2e43260828> kinetics \n"
     ]
    }
   ],
   "source": [
    "from skimpy.io.regulation import load_enzyme_regulation\n",
    "import pandas as pd\n",
    "# Add regulation data to kinetic model\n",
    "path_to_regulation_data = f'{base}/allosteric_regulations.csv'\n",
    "df = pd.read_csv(path_to_regulation_data)\n",
    "df_regulations_all = df[df['reaction_id'].isin(list(kmodel.reactions.keys()))]\n",
    "df_regulations_all = df_regulations_all[df_regulations_all['regulator'].isin(list(kmodel.reactants.keys()))]\n",
    "\n",
    "kmodel = load_enzyme_regulation(kmodel, df_regulations_all)"
   ]
  },
  {
   "cell_type": "code",
   "execution_count": 14,
   "metadata": {},
   "outputs": [
    {
     "name": "stdout",
     "output_type": "stream",
     "text": [
      "The model has 123 reactions.\n",
      "The number of km in this model is 384.\n",
      "The number of inhibition k in this model is 12.\n",
      "The number of activation k in this model is 10.\n"
     ]
    }
   ],
   "source": [
    "no_km = 0\n",
    "no_ka = 0\n",
    "no_ki = 0\n",
    "k_list = []\n",
    "for k,v in kmodel.parameters.items():\n",
    "    if k.startswith(\"km_\"):\n",
    "        no_km += 1 \n",
    "        k_list.append(k)\n",
    "    elif (\"activation\" in k):\n",
    "        no_ka += 1\n",
    "        k_list.append(k)\n",
    "    elif (\"inhibition\" in k):\n",
    "        no_ki += 1\n",
    "        k_list.append(k)\n",
    "print(f\"The model has {len(kmodel.reactions)} reactions.\")\n",
    "print(f\"The number of km in this model is {no_km}.\")\n",
    "print(f\"The number of inhibition k in this model is {no_ki}.\")\n",
    "print(f\"The number of activation k in this model is {no_ka}.\")\n"
   ]
  },
  {
   "cell_type": "code",
   "execution_count": 16,
   "metadata": {},
   "outputs": [],
   "source": [
    "import pickle\n",
    "\n",
    "file_name = \"./output/parameter_names_k_with_regulation.pkl\"\n",
    "open_file = open(file_name, \"wb\")\n",
    "pickle.dump(k_list, open_file)\n",
    "open_file.close()"
   ]
  },
  {
   "cell_type": "code",
   "execution_count": 10,
   "metadata": {},
   "outputs": [
    {
     "data": {
      "text/plain": [
       "True"
      ]
     },
     "execution_count": 10,
     "metadata": {},
     "output_type": "execute_result"
    }
   ],
   "source": [
    "export_to_yaml(kmodel, output_model_path)"
   ]
  }
 ],
 "metadata": {
  "kernelspec": {
   "display_name": "Python 3",
   "language": "python",
   "name": "python3"
  },
  "language_info": {
   "codemirror_mode": {
    "name": "ipython",
    "version": 3
   },
   "file_extension": ".py",
   "mimetype": "text/x-python",
   "name": "python",
   "nbconvert_exporter": "python",
   "pygments_lexer": "ipython3",
   "version": "3.6.14"
  }
 },
 "nbformat": 4,
 "nbformat_minor": 2
}
