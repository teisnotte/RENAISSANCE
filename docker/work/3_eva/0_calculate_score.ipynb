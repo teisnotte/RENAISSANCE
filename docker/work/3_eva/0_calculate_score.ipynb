{
 "cells": [
  {
   "cell_type": "markdown",
   "metadata": {},
   "source": [
    "# Test Different Evalution Functions"
   ]
  },
  {
   "cell_type": "code",
   "execution_count": null,
   "metadata": {},
   "outputs": [],
   "source": []
  },
  {
   "cell_type": "code",
   "execution_count": 5,
   "metadata": {},
   "outputs": [],
   "source": [
    "def normalized_difference_score(simulated, experimental, max_acceptable_difference):\n",
    "    difference = abs(simulated - experimental)\n",
    "    normalized_difference = difference / max_acceptable_difference\n",
    "    score = max(0, 1 - normalized_difference)\n",
    "    return score\n"
   ]
  },
  {
   "cell_type": "code",
   "execution_count": null,
   "metadata": {},
   "outputs": [],
   "source": [
    "def scaled_inverse_error_score(simulated, experimental, scale_factor):\n",
    "    error = abs(simulated - experimental)\n",
    "    score = 1 / (1 + error * scale_factor)\n",
    "    return score\n"
   ]
  },
  {
   "cell_type": "code",
   "execution_count": null,
   "metadata": {},
   "outputs": [],
   "source": [
    "def nrmse_score(simulated_values, experimental_values, range_values):\n",
    "    mse = np.mean((simulated_values - experimental_values) ** 2)\n",
    "    rmse = np.sqrt(mse)\n",
    "    nrmse = rmse / range_values\n",
    "    score = max(0, 1 - nrmse)\n",
    "    return score\n"
   ]
  }
 ],
 "metadata": {
  "kernelspec": {
   "display_name": "Python 3",
   "language": "python",
   "name": "python3"
  },
  "language_info": {
   "codemirror_mode": {
    "name": "ipython",
    "version": 3
   },
   "file_extension": ".py",
   "mimetype": "text/x-python",
   "name": "python",
   "nbconvert_exporter": "python",
   "pygments_lexer": "ipython3",
   "version": "3.6.14"
  }
 },
 "nbformat": 4,
 "nbformat_minor": 2
}
