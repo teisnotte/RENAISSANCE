{
 "cells": [
  {
   "cell_type": "markdown",
   "metadata": {},
   "source": [
    "# Test Different Evalution Functions\n",
    "1. Automatically select 10 best generators\n",
    "2. Generate 20 parameter sets for each generator (directly from generator)\n",
    "3. Simulate bioreactor to see the final concentration\n",
    "4. Calculate scoring function and find 3 most fitted ones"
   ]
  },
  {
   "cell_type": "code",
   "execution_count": 1,
   "metadata": {},
   "outputs": [],
   "source": [
    "import sys\n",
    "import os\n",
    "# Add the parent directory to the PYTHONPATH\n",
    "sys.path.append(os.path.abspath('../'))\n"
   ]
  },
  {
   "cell_type": "markdown",
   "metadata": {},
   "source": [
    "### 2. Generate Parameter Set Using Generators"
   ]
  },
  {
   "cell_type": "code",
   "execution_count": 2,
   "metadata": {},
   "outputs": [],
   "source": [
    "import numpy as np\n",
    "import pandas as pd\n",
    "from configparser import ConfigParser\n",
    "from renaissance.evostrat.init_mlp import MLP\n",
    "from renaissance.tools.helper import load_pkl\n"
   ]
  },
  {
   "cell_type": "code",
   "execution_count": 3,
   "metadata": {},
   "outputs": [
    {
     "data": {
      "text/plain": [
       "['configfile.ini']"
      ]
     },
     "execution_count": 3,
     "metadata": {},
     "output_type": "execute_result"
    }
   ],
   "source": [
    "repeat = 10\n",
    "generation = 23\n",
    "cond_class = 1\n",
    "\n",
    "lnminkm = -25\n",
    "lnmaxkm = 0\n",
    "\n",
    "pf_flag = 0\n",
    "base = \"../models/\"\n",
    "met_model = \"ecoli_shikki_regulation\"\n",
    "names_km = load_pkl(f'{base}/{met_model}/parameters/generated_k_names.pkl')\n",
    "\n",
    "n_sets = 20\n",
    "path_to_weights = f\"../output/rnsc_opt/repeat_{repeat}/weights_{generation}.pkl\"\n",
    "output_name = \"gen_x_parameters\"\n",
    "ss_idx = 1712\n",
    "\n",
    "#Parse arguments from configfile\n",
    "configs = ConfigParser()\n",
    "configs.read('configfile.ini')"
   ]
  },
  {
   "cell_type": "code",
   "execution_count": 4,
   "metadata": {},
   "outputs": [
    {
     "name": "stdout",
     "output_type": "stream",
     "text": [
      "99\n"
     ]
    }
   ],
   "source": [
    "mlp = MLP(cond_class, lnminkm, lnmaxkm, n_sets, names_km, len(names_km), param_fixing=pf_flag)\n",
    "\n",
    "# Load saved weights and generate\n",
    "opt_weights = load_pkl(path_to_weights)\n",
    "mlp.generator.set_weights(opt_weights)\n",
    "gen_params = mlp.sample_parameters()"
   ]
  },
  {
   "cell_type": "markdown",
   "metadata": {},
   "source": [
    "### 3. Load Model and Prepare Simulation"
   ]
  },
  {
   "cell_type": "code",
   "execution_count": 5,
   "metadata": {},
   "outputs": [],
   "source": [
    "from pytfa.io.json import load_json_model\n",
    "from skimpy.core import *\n",
    "from skimpy.mechanisms import *\n",
    "from skimpy.sampling.simple_parameter_sampler import SimpleParameterSampler\n",
    "from skimpy.io.yaml import load_yaml_model\n",
    "from skimpy.io.regulation import load_enzyme_regulation\n",
    "from skimpy.analysis.oracle.load_pytfa_solution import load_fluxes, load_concentrations, load_equilibrium_constants\n",
    "from skimpy.core.parameters import ParameterValues, ParameterValuePopulation\n",
    "from sympy import Symbol\n",
    "from scipy.linalg import eigvals as eigenvalues\n",
    "from renaissance.kinetics.eigenvalue_calculation import calc_eigenvalues\n",
    "\n",
    "''' Run parameters and paths '''\n",
    "# Cellular parameters\n",
    "CONCENTRATION_SCALING = 1e9  # 1 mol to 1 mmol\n",
    "TIME_SCALING = 1  # 1hr\n",
    "DENSITY = 1105  # g/L\n",
    "GDW_GWW_RATIO = 0.3  # Assumes 70% Water\n",
    "flux_scaling_factor = 1e-3 * (GDW_GWW_RATIO * DENSITY) * CONCENTRATION_SCALING / TIME_SCALING\n",
    "NCPU = 32"
   ]
  },
  {
   "cell_type": "code",
   "execution_count": 6,
   "metadata": {},
   "outputs": [],
   "source": [
    "model_file = configs['PATHS']['model_file']\n",
    "thermo_experiment_file = configs['PATHS']['thermo_experiment_file']\n",
    "regulation_file = configs['PATHS']['regulation_file']\n",
    "kinetic_params_file = configs['PATHS']['kinetic_params_file']\n",
    "steady_states_file = configs['PATHS']['steady_states_file']\n",
    "steady_states_sample = 1712 #[1715,1717,2392,2482,3927,4230,4241,4456, 4468]\n",
    "\n",
    "path_to_kmodel = f'{base}/{met_model}/kinetic/{model_file}'\n",
    "path_to_tmodel = f'{base}/{met_model}/thermo/{thermo_experiment_file}'\n",
    "path_to_params = f'{base}/{met_model}/parameters/gen_{repeat}_{generation}_parameters.hdf5'\n",
    "path_to_regulation_data = f'{base}/{met_model}/{regulation_file}'\n",
    "path_to_samples = f'{base}/{met_model}/steady_state_samples/{steady_states_file}'\n"
   ]
  },
  {
   "cell_type": "code",
   "execution_count": 7,
   "metadata": {},
   "outputs": [
    {
     "name": "stderr",
     "output_type": "stream",
     "text": [
      "2024-03-13 17:51:33,324 - thermomodel_new - INFO - # Model initialized with units kcal/mol and temperature 298.15 K\n",
      "2024-03-13 17:51:36,061 - Unnamed - WARNING - Non integer stoichiometries found ['CYTBO3_4pp', 'LMPD_biomass_c_1_420', 'CYTBDpp'] change to integer for linear dependencies\n",
      "2024-03-13 17:51:39,286 - Unnamed - WARNING - Non integer stoichiometries found ['LMPD_biomass_c_1_420', 'CYTBDpp', 'CYTBO3_4pp'] change to integer for linear dependencies\n"
     ]
    }
   ],
   "source": [
    "# Load models\n",
    "tmodel = load_json_model(path_to_tmodel)\n",
    "kmodel_draft = load_yaml_model(path_to_kmodel)\n",
    "\n",
    "# Add regulation data to kinetic model\n",
    "df = pd.read_csv(path_to_regulation_data)\n",
    "df_regulations_all = df[df['reaction_id'].isin(list(kmodel_draft.reactions.keys()))]\n",
    "df_regulations_all = df_regulations_all[df_regulations_all['regulator'].isin(list(kmodel_draft.reactants.keys()))]\n",
    "kmodel = load_enzyme_regulation(kmodel_draft, df_regulations_all)\n",
    "\n",
    "# Compile model\n",
    "kmodel.prepare()\n",
    "kmodel.compile_jacobian(ncpu=NCPU)"
   ]
  },
  {
   "cell_type": "code",
   "execution_count": 8,
   "metadata": {},
   "outputs": [
    {
     "name": "stdout",
     "output_type": "stream",
     "text": [
      "The number of k for generation is 464, \n",
      "and the number of regulation parameters is 106.\n"
     ]
    }
   ],
   "source": [
    "k_names = []\n",
    "k_regulation = []\n",
    "\n",
    "for k, v in kmodel.parameters.items():\n",
    "    if k.startswith(\"km_\") or \"activator\" in k or \"inhibitor\" in k or \"activation\" in k or \"inhibition\" in k:\n",
    "        if k not in k_names:\n",
    "            k_names.append(k)\n",
    "            \n",
    "        if \"activator\" in k or \"inhibitor\" in k or \"activation\" in k or \"inhibition\" in k:\n",
    "            k_regulation.append(k)\n",
    "\n",
    "print(f\"The number of k for generation is {len(k_names)}, \\nand the number of regulation parameters is {len(k_regulation)}.\")\n"
   ]
  },
  {
   "cell_type": "code",
   "execution_count": 9,
   "metadata": {},
   "outputs": [],
   "source": [
    "ss_idx = steady_states_sample \n",
    "samples = pd.read_csv(path_to_samples, header=0, index_col=0).iloc[ss_idx, 0:]\n",
    "\n",
    "flux_series = load_fluxes(samples, tmodel, kmodel,\n",
    "                  density=DENSITY,\n",
    "                  ratio_gdw_gww=GDW_GWW_RATIO,\n",
    "                  concentration_scaling=CONCENTRATION_SCALING,\n",
    "                  time_scaling=TIME_SCALING)\n",
    "\n",
    "conc_series = load_concentrations(samples, tmodel, kmodel,\n",
    "                          concentration_scaling=CONCENTRATION_SCALING)\n",
    "    \n",
    "# Fetch equilibrium constants\n",
    "k_eq = load_equilibrium_constants(samples, tmodel, kmodel,\n",
    "                          concentration_scaling=CONCENTRATION_SCALING,\n",
    "                          in_place=True)\n",
    "\n",
    "\n",
    "sampling_parameters = SimpleParameterSampler.Parameters(n_samples=1)\n",
    "sampler = SimpleParameterSampler(sampling_parameters)\n",
    "sampler._compile_sampling_functions(kmodel, conc_series)\n"
   ]
  },
  {
   "cell_type": "code",
   "execution_count": 12,
   "metadata": {},
   "outputs": [],
   "source": [
    "parameter_set = pd.DataFrame(np.exp(gen_params))\n",
    "parameter_set.columns = names_km\n",
    "\n",
    "param_population = []\n",
    "for j in range(len(parameter_set.index)):\n",
    "    param_val = parameter_set.loc[j] * CONCENTRATION_SCALING\n",
    "    param_sample, eigen = calc_eigenvalues(kmodel, param_val, flux_series, conc_series, k_eq)\n",
    "    param_population.append(param_sample)\n",
    "\n",
    "param_population = ParameterValuePopulation(param_population, kmodel=kmodel)"
   ]
  },
  {
   "cell_type": "markdown",
   "metadata": {},
   "source": [
    "### 3. Bioreactor Simulation"
   ]
  },
  {
   "cell_type": "code",
   "execution_count": 13,
   "metadata": {},
   "outputs": [],
   "source": [
    "from skimpy.simulations.reactor import make_batch_reactor\n",
    "from skimpy.core.solution import ODESolutionPopulation\n",
    "from renaissance.simulation.reactor import simulate_bioreactor\n",
    "import time\n",
    "\n",
    "# Ode simulation parameters\n",
    "TOTAL_TIME = 60\n",
    "N_STEPS = 1000\n",
    "MAX_TIME = 60\n",
    "REACTOR_VOLUME = 50e13"
   ]
  },
  {
   "cell_type": "code",
   "execution_count": 14,
   "metadata": {},
   "outputs": [
    {
     "name": "stderr",
     "output_type": "stream",
     "text": [
      "2024-03-13 17:57:46,858 - Unnamed - WARNING - Non integer stoichiometries found ['CYTBO3_4pp', 'LMPD_biomass_c_1_420', 'CYTBDpp'] change to integer for linear dependencies\n"
     ]
    }
   ],
   "source": [
    "# Reactor initialization\n",
    "kinetic_models = list(param_population._index.keys())\n",
    "reactor = make_batch_reactor('../2_bioreactor/single_species.yaml', df_regulation= df_regulations_all)\n",
    "reactor.compile_ode(ncpu=NCPU, add_dilution=False)\n",
    "reactor_volume = reactor.models.strain_1.parameters.strain_1_volume_e.value"
   ]
  },
  {
   "cell_type": "code",
   "execution_count": null,
   "metadata": {},
   "outputs": [
    {
     "name": "stdout",
     "output_type": "stream",
     "text": [
      "\n",
      "Running model: 0\n",
      "Starting Simulation\n",
      "Compelted in 5.27 seconds\n",
      "-----------------\n",
      "Final biomass is : 1.663765270904677, final anthranilate is : 7.215271712627369, final glucose is : 4142.774167497099\n",
      "\n",
      "Running model: 1\n",
      "Starting Simulation\n",
      "Compelted in 12.90 seconds\n",
      "-----------------\n",
      "Final biomass is : 8.862932560193125, final anthranilate is : 14.858594890228447, final glucose is : 2.0641107401749452e-07\n",
      "\n",
      "Running model: 2\n",
      "Starting Simulation\n",
      "Did not converge in time\n",
      "Compelted in 60.01 seconds\n",
      "-----------------\n",
      "Final biomass is : 5.349112544082295, final anthranilate is : 13.82492166402992, final glucose is : 3246.42604481868\n",
      "\n",
      "Running model: 3\n",
      "Starting Simulation\n",
      "Compelted in 48.68 seconds\n",
      "-----------------\n",
      "Final biomass is : 10.939543294694777, final anthranilate is : 13.788800613293967, final glucose is : 1.7911468664893914e-09\n",
      "\n",
      "Running model: 4\n",
      "Starting Simulation\n",
      "Did not converge in time\n",
      "Compelted in 60.02 seconds\n",
      "-----------------\n",
      "Final biomass is : 9.21941381420962, final anthranilate is : 15.184845160106217, final glucose is : 2.2352376319582112e-07\n",
      "\n",
      "Running model: 5\n",
      "Starting Simulation\n",
      "Compelted in 6.75 seconds\n",
      "-----------------\n",
      "Final biomass is : 13.288554118257046, final anthranilate is : 15.225699090542998, final glucose is : 367.2011665259819\n",
      "\n",
      "Running model: 6\n",
      "Starting Simulation\n",
      "Compelted in 8.76 seconds\n",
      "-----------------\n",
      "Final biomass is : 0.718523831160456, final anthranilate is : 4.385924749913692, final glucose is : 8858.081064127107\n",
      "\n",
      "Running model: 7\n",
      "Starting Simulation\n",
      "Did not converge in time\n",
      "Compelted in 60.01 seconds\n",
      "-----------------\n",
      "Final biomass is : 9.326747463614744, final anthranilate is : 10.592434676305619, final glucose is : 2.3912231939697636e-05\n",
      "\n",
      "Running model: 8\n",
      "Starting Simulation\n",
      "Compelted in 9.29 seconds\n",
      "-----------------\n",
      "Final biomass is : 13.536443502645884, final anthranilate is : 22.526397829067353, final glucose is : 0.4414911718168633\n",
      "\n",
      "Running model: 9\n",
      "Starting Simulation\n",
      "Compelted in 18.04 seconds\n",
      "-----------------\n",
      "Final biomass is : 10.807204876471843, final anthranilate is : 13.604735445881902, final glucose is : 1469.9685590674055\n",
      "\n",
      "Running model: 10\n",
      "Starting Simulation\n",
      "Compelted in 6.32 seconds\n",
      "-----------------\n",
      "Final biomass is : 8.630392626976988, final anthranilate is : 15.199022951127235, final glucose is : 143.0032492364413\n",
      "\n",
      "Running model: 11\n",
      "Starting Simulation\n",
      "Compelted in 11.51 seconds\n",
      "-----------------\n",
      "Final biomass is : 11.429487686371584, final anthranilate is : 36.01174556314566, final glucose is : 7.112991317937436e-06\n",
      "\n",
      "Running model: 12\n",
      "Starting Simulation\n",
      "Compelted in 13.42 seconds\n",
      "-----------------\n",
      "Final biomass is : 13.509838312374116, final anthranilate is : 14.31073880269494, final glucose is : 772.4057147736963\n",
      "\n",
      "Running model: 13\n",
      "Starting Simulation\n",
      "Did not converge in time\n",
      "Compelted in 60.02 seconds\n",
      "-----------------\n",
      "Final biomass is : 6.56531467350293, final anthranilate is : 13.08677697267855, final glucose is : 1563.4199839054374\n",
      "\n",
      "Running model: 14\n",
      "Starting Simulation\n",
      "Did not converge in time\n",
      "Compelted in 60.01 seconds\n",
      "-----------------\n",
      "Final biomass is : 7.669708172017371, final anthranilate is : 9.684087596994026, final glucose is : 5634.8611988276825\n",
      "\n",
      "Running model: 15\n",
      "Starting Simulation\n",
      "Did not converge in time\n",
      "Compelted in 60.06 seconds\n",
      "-----------------\n",
      "Final biomass is : 9.50076045157051, final anthranilate is : 14.57075365525971, final glucose is : 0.5008653598056403\n",
      "\n",
      "Running model: 16\n",
      "Starting Simulation\n",
      "Compelted in 9.97 seconds\n",
      "-----------------\n",
      "Final biomass is : 9.795484650772673, final anthranilate is : 12.595902435151258, final glucose is : 398.3812976196633\n",
      "\n",
      "Running model: 17\n",
      "Starting Simulation\n",
      "Compelted in 17.80 seconds\n",
      "-----------------\n",
      "Final biomass is : 10.61078038630453, final anthranilate is : 14.425920043309507, final glucose is : 4.3794933882413e-07\n",
      "\n",
      "Running model: 18\n",
      "Starting Simulation\n",
      "Did not converge in time\n",
      "Compelted in 60.04 seconds\n",
      "-----------------\n",
      "Final biomass is : 14.416947090504033, final anthranilate is : 15.648354963018292, final glucose is : 1.047951873326614\n",
      "\n",
      "Running model: 19\n",
      "Starting Simulation\n",
      "Compelted in 24.77 seconds\n",
      "-----------------\n",
      "Final biomass is : 13.31625082250556, final anthranilate is : 14.73342115107068, final glucose is : 0.0004619003080444788\n"
     ]
    }
   ],
   "source": [
    "sols_wt= []\n",
    "for this_model in kinetic_models:\n",
    "    print(\"\\nRunning model: {}\".format(this_model))\n",
    "\n",
    "    # Load tfa sample and kinetic parameters into kinetic model\n",
    "    parameter_set = param_population[this_model]\n",
    "        \n",
    "    solution, final_biomass, final_anthranilate, final_glucose = \\\n",
    "    simulate_bioreactor(parameter_set, \n",
    "                        samples, \n",
    "                        kmodel, \n",
    "                        conc_series, \n",
    "                        reactor, \n",
    "                        reactor_volume=REACTOR_VOLUME,\n",
    "                        max_time=MAX_TIME,\n",
    "                        total_time=TOTAL_TIME,\n",
    "                        steps=N_STEPS)\n",
    "\n",
    "    sols_wt.append(solution)\n"
   ]
  }
 ],
 "metadata": {
  "kernelspec": {
   "display_name": "Python 3",
   "language": "python",
   "name": "python3"
  },
  "language_info": {
   "codemirror_mode": {
    "name": "ipython",
    "version": 3
   },
   "file_extension": ".py",
   "mimetype": "text/x-python",
   "name": "python",
   "nbconvert_exporter": "python",
   "pygments_lexer": "ipython3",
   "version": "3.6.14"
  }
 },
 "nbformat": 4,
 "nbformat_minor": 2
}
