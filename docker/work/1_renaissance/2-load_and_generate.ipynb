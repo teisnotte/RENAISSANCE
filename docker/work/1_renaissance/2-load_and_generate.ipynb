{
 "cells": [
  {
   "cell_type": "code",
   "execution_count": null,
   "metadata": {},
   "outputs": [],
   "source": [
    "import sys\n",
    "import os\n",
    "# Add the parent directory to the PYTHONPATH\n",
    "sys.path.append(os.path.abspath('../'))\n",
    "\n",
    "import helper as hp\n",
    "import numpy as np\n",
    "from configparser import ConfigParser\n",
    "from renaissance.evostrat.init_mlp import MLP\n",
    "from renaissance.kinetics.npy_to_hdf5 import store_as_hdf5\n"
   ]
  },
  {
   "cell_type": "code",
   "execution_count": null,
   "metadata": {},
   "outputs": [],
   "source": [
    "# parse arguments from configfile\n",
    "configs = ConfigParser()\n",
    "configs.read('configfile.ini')\n",
    "\n",
    "lnminkm = float(configs['CONSTRAINTS']['min_km'])\n",
    "lnmaxkm = float(configs['CONSTRAINTS']['max_km'])\n",
    "\n",
    "pf_flag = int(configs['PARAMETER_FIXING']['pf_flag'])\n",
    "met_model = configs['PATHS']['met_model']\n",
    "names_km = hp.load_pkl(f'models/{met_model}/parameter_names_km_fdp1.pkl')\n",
    "\n",
    "n_sets = int(configs['LOAD_AND_GENERATE']['n_sets'])\n",
    "path_to_weights = configs['LOAD_AND_GENERATE']['path_to_weights']\n",
    "output_name = configs['LOAD_AND_GENERATE']['name_output']\n",
    "output_path = configs['LOAD_AND_GENERATE']['path_output']\n",
    "ss_idx = int(configs['EVOSTRAT']['ss_idx'])"
   ]
  },
  {
   "cell_type": "code",
   "execution_count": null,
   "metadata": {},
   "outputs": [],
   "source": [
    "# Call neural network agent\n",
    "cond_class = 1\n",
    "mlp = MLP(cond_class, lnminkm, lnmaxkm, n_sets, names_km, param_fixing=pf_flag)\n",
    "\n",
    "# Load saved weights and generate\n",
    "opt_weights = hp.load_pkl(path_to_weights)\n",
    "mlp.generator.set_weights(opt_weights)\n",
    "gen_params = mlp.sample_parameters()\n",
    "\n",
    "# Calculate corresponding Vmaxs and save as .hdf5 for further downstream studies\n",
    "store_as_hdf5(gen_params, met_model, names_km, ss_idx, output_path, output_name)\n",
    "# np.save(f'{output_path}{output_name}.npy', noise)"
   ]
  },
  {
   "cell_type": "code",
   "execution_count": null,
   "metadata": {},
   "outputs": [],
   "source": [
    "import pandas as pd\n",
    "\n",
    "para = pd.read_pickle(path_to_weights)"
   ]
  },
  {
   "cell_type": "code",
   "execution_count": null,
   "metadata": {},
   "outputs": [],
   "source": [
    "para"
   ]
  }
 ],
 "metadata": {
  "language_info": {
   "name": "python"
  }
 },
 "nbformat": 4,
 "nbformat_minor": 2
}
