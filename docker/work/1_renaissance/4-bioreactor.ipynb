{
 "cells": [
  {
   "cell_type": "code",
   "execution_count": 1,
   "metadata": {},
   "outputs": [
    {
     "ename": "ModuleNotFoundError",
     "evalue": "No module named 'kinetics'",
     "output_type": "error",
     "traceback": [
      "\u001b[0;31m---------------------------------------------------------------------------\u001b[0m",
      "\u001b[0;31mModuleNotFoundError\u001b[0m                       Traceback (most recent call last)",
      "Cell \u001b[0;32mIn[1], line 2\u001b[0m\n\u001b[1;32m      1\u001b[0m \u001b[38;5;28;01mfrom\u001b[39;00m \u001b[38;5;21;01mconfigparser\u001b[39;00m \u001b[38;5;28;01mimport\u001b[39;00m ConfigParser\n\u001b[0;32m----> 2\u001b[0m \u001b[38;5;28;01mfrom\u001b[39;00m \u001b[38;5;21;01mkinetics\u001b[39;00m\u001b[38;5;21;01m.\u001b[39;00m\u001b[38;5;21;01mbioreactor\u001b[39;00m \u001b[38;5;28;01mimport\u001b[39;00m simulator\n\u001b[1;32m      4\u001b[0m \u001b[38;5;66;03m# parse arguments from configfile\u001b[39;00m\n\u001b[1;32m      5\u001b[0m configs \u001b[38;5;241m=\u001b[39m ConfigParser()\n",
      "\u001b[0;31mModuleNotFoundError\u001b[0m: No module named 'kinetics'"
     ]
    }
   ],
   "source": [
    "import sys\n",
    "import os\n",
    "# Add the parent directory to the PYTHONPATH\n",
    "sys.path.append(os.path.abspath('../'))\n",
    "\n",
    "from configparser import ConfigParser\n",
    "from kinetics.bioreactor import simulator\n",
    "\n",
    "# parse arguments from configfile\n",
    "configs = ConfigParser()\n",
    "configs.read('configfile.ini')\n",
    "\n",
    "met_model = configs['PATHS']['met_model']\n",
    "ss_idx = int(configs['EVOSTRAT']['ss_idx'])\n",
    "\n",
    "path_to_parameters = configs['BIOREACTOR_SIMULATION']['path_to_parameter_set']\n",
    "output_name = configs['BIOREACTOR_SIMULATION']['name_output']\n",
    "output_path = configs['BIOREACTOR_SIMULATION']['path_output']\n",
    "initiator_path = configs['BIOREACTOR_SIMULATION']['path_to_initiator']\n",
    "\n"
   ]
  },
  {
   "cell_type": "code",
   "execution_count": 5,
   "metadata": {},
   "outputs": [
    {
     "name": "stderr",
     "output_type": "stream",
     "text": [
      "2024-02-27 10:10:33,088 - thermomodel_new - INFO - # Model initialized with units kcal/mol and temperature 298.15 K\n",
      "2024-02-27 10:10:36,265 - Unnamed - WARNING - Non integer stoichiometries found ['CYTBO3_4pp', 'LMPD_biomass_c_1_420', 'CYTBDpp'] change to integer for linear dependencies\n"
     ]
    },
    {
     "name": "stdout",
     "output_type": "stream",
     "text": [
      "These parameters are omitted due to KeyError: \n",
      "['hill_coefficient_ATPM', 'k1_bwd_ACALDtex', 'k1_bwd_ACtex', 'k1_bwd_AKGtex', 'k1_bwd_CO2tex', 'k1_bwd_D-LACtex', 'k1_bwd_ETOHtex', 'k1_bwd_FORtex', 'k1_bwd_GLCtex', 'k1_bwd_GLUtex', 'k1_bwd_Htex', 'k1_bwd_MALtex', 'k1_bwd_NH4tex', 'k1_bwd_O2tex', 'k1_bwd_PHEtex', 'k1_bwd_PYRtex', 'k1_bwd_SERtex', 'k1_bwd_SUCCtex', 'k1_bwd_TRPtex', 'k1_bwd_TYRtex', 'k1_fwd_ACALDtex', 'k1_fwd_ACtex', 'k1_fwd_AKGtex', 'k1_fwd_CO2tex', 'k1_fwd_D-LACtex', 'k1_fwd_ETOHtex', 'k1_fwd_FORtex', 'k1_fwd_GLCtex', 'k1_fwd_GLUtex', 'k1_fwd_Htex', 'k1_fwd_MALtex', 'k1_fwd_NH4tex', 'k1_fwd_O2tex', 'k1_fwd_PHEtex', 'k1_fwd_PYRtex', 'k1_fwd_SERtex', 'k1_fwd_SUCCtex', 'k1_fwd_TRPtex', 'k1_fwd_TYRtex', 'k2_bwd_ACALDtex', 'k2_bwd_ACtex', 'k2_bwd_AKGtex', 'k2_bwd_CO2tex', 'k2_bwd_D-LACtex', 'k2_bwd_ETOHtex', 'k2_bwd_FORtex', 'k2_bwd_GLCtex', 'k2_bwd_GLUtex', 'k2_bwd_Htex', 'k2_bwd_MALtex', 'k2_bwd_NH4tex', 'k2_bwd_O2tex', 'k2_bwd_PHEtex', 'k2_bwd_PYRtex', 'k2_bwd_SERtex', 'k2_bwd_SUCCtex', 'k2_bwd_TRPtex', 'k2_bwd_TYRtex', 'k2_fwd_ACALDtex', 'k2_fwd_ACtex', 'k2_fwd_AKGtex', 'k2_fwd_CO2tex', 'k2_fwd_D-LACtex', 'k2_fwd_ETOHtex', 'k2_fwd_FORtex', 'k2_fwd_GLCtex', 'k2_fwd_GLUtex', 'k2_fwd_Htex', 'k2_fwd_MALtex', 'k2_fwd_NH4tex', 'k2_fwd_O2tex', 'k2_fwd_PHEtex', 'k2_fwd_PYRtex', 'k2_fwd_SERtex', 'k2_fwd_SUCCtex', 'k2_fwd_TRPtex', 'k2_fwd_TYRtex', 'k_equilibrium_ATPM', 'k_equilibrium_FDH4pp', 'k_equilibrium_NADH16pp', 'k_equilibrium_NADH5', 'kcat_forward_ACALDtex', 'kcat_forward_ACtex', 'kcat_forward_AKGtex', 'kcat_forward_CO2tex', 'kcat_forward_D-LACtex', 'kcat_forward_ETOHtex', 'kcat_forward_FORtex', 'kcat_forward_GLCtex', 'kcat_forward_GLUtex', 'kcat_forward_Htex', 'kcat_forward_MALtex', 'kcat_forward_NH4tex', 'kcat_forward_O2tex', 'kcat_forward_PHEtex', 'kcat_forward_PYRtex', 'kcat_forward_SERtex', 'kcat_forward_SUCCtex', 'kcat_forward_TRPtex', 'kcat_forward_TYRtex', 'km_product_ACALDtex', 'km_product_ACtex', 'km_product_AKGtex', 'km_product_CO2tex', 'km_product_D-LACtex', 'km_product_ETOHtex', 'km_product_FORtex', 'km_product_GLCtex', 'km_product_GLUtex', 'km_product_Htex', 'km_product_MALtex', 'km_product_NH4tex', 'km_product_O2tex', 'km_product_PHEtex', 'km_product_PYRtex', 'km_product_SERtex', 'km_product_SUCCtex', 'km_product_TRPtex', 'km_product_TYRtex', 'km_substrate30_LMPD_biomass_c_1_420', 'km_substrate_ACALDtex', 'km_substrate_ACtex', 'km_substrate_AKGtex', 'km_substrate_CO2tex', 'km_substrate_D-LACtex', 'km_substrate_ETOHtex', 'km_substrate_FORtex', 'km_substrate_GLCtex', 'km_substrate_GLUtex', 'km_substrate_Htex', 'km_substrate_MALtex', 'km_substrate_NH4tex', 'km_substrate_O2tex', 'km_substrate_PHEtex', 'km_substrate_PYRtex', 'km_substrate_SERtex', 'km_substrate_SUCCtex', 'km_substrate_TRPtex', 'km_substrate_TYRtex', 'total_enzyme_concentration_ACALDtex', 'total_enzyme_concentration_ACtex', 'total_enzyme_concentration_AKGtex', 'total_enzyme_concentration_CO2tex', 'total_enzyme_concentration_D-LACtex', 'total_enzyme_concentration_ETOHtex', 'total_enzyme_concentration_FORtex', 'total_enzyme_concentration_GLCtex', 'total_enzyme_concentration_GLUtex', 'total_enzyme_concentration_Htex', 'total_enzyme_concentration_MALtex', 'total_enzyme_concentration_NH4tex', 'total_enzyme_concentration_O2tex', 'total_enzyme_concentration_PHEtex', 'total_enzyme_concentration_PYRtex', 'total_enzyme_concentration_SERtex', 'total_enzyme_concentration_SUCCtex', 'total_enzyme_concentration_TRPtex', 'total_enzyme_concentration_TYRtex', 'vmax_backward_ACALDtex', 'vmax_backward_ACtex', 'vmax_backward_AKGtex', 'vmax_backward_ATPM', 'vmax_backward_CO2tex', 'vmax_backward_D-LACtex', 'vmax_backward_ETOHtex', 'vmax_backward_FORtex', 'vmax_backward_GLCtex', 'vmax_backward_GLUtex', 'vmax_backward_Htex', 'vmax_backward_MALtex', 'vmax_backward_NH4tex', 'vmax_backward_O2tex', 'vmax_backward_PHEtex', 'vmax_backward_PYRtex', 'vmax_backward_SERtex', 'vmax_backward_SUCCtex', 'vmax_backward_TRPtex', 'vmax_backward_TYRtex']\n",
      "True\n",
      "True\n"
     ]
    },
    {
     "name": "stderr",
     "output_type": "stream",
     "text": [
      "2024-02-27 10:10:39,498 - Unnamed - WARNING - Non integer stoichiometries found ['CYTBO3_4pp', 'LMPD_biomass_c_1_420', 'CYTBDpp'] change to integer for linear dependencies\n"
     ]
    },
    {
     "name": "stdout",
     "output_type": "stream",
     "text": [
      "These parameters are omitted due to KeyError: \n",
      "['hill_coefficient_ATPM', 'k1_bwd_ACALDtex', 'k1_bwd_ACtex', 'k1_bwd_AKGtex', 'k1_bwd_CO2tex', 'k1_bwd_D-LACtex', 'k1_bwd_ETOHtex', 'k1_bwd_FORtex', 'k1_bwd_GLCtex', 'k1_bwd_GLUtex', 'k1_bwd_Htex', 'k1_bwd_MALtex', 'k1_bwd_NH4tex', 'k1_bwd_O2tex', 'k1_bwd_PHEtex', 'k1_bwd_PYRtex', 'k1_bwd_SERtex', 'k1_bwd_SUCCtex', 'k1_bwd_TRPtex', 'k1_bwd_TYRtex', 'k1_fwd_ACALDtex', 'k1_fwd_ACtex', 'k1_fwd_AKGtex', 'k1_fwd_CO2tex', 'k1_fwd_D-LACtex', 'k1_fwd_ETOHtex', 'k1_fwd_FORtex', 'k1_fwd_GLCtex', 'k1_fwd_GLUtex', 'k1_fwd_Htex', 'k1_fwd_MALtex', 'k1_fwd_NH4tex', 'k1_fwd_O2tex', 'k1_fwd_PHEtex', 'k1_fwd_PYRtex', 'k1_fwd_SERtex', 'k1_fwd_SUCCtex', 'k1_fwd_TRPtex', 'k1_fwd_TYRtex', 'k2_bwd_ACALDtex', 'k2_bwd_ACtex', 'k2_bwd_AKGtex', 'k2_bwd_CO2tex', 'k2_bwd_D-LACtex', 'k2_bwd_ETOHtex', 'k2_bwd_FORtex', 'k2_bwd_GLCtex', 'k2_bwd_GLUtex', 'k2_bwd_Htex', 'k2_bwd_MALtex', 'k2_bwd_NH4tex', 'k2_bwd_O2tex', 'k2_bwd_PHEtex', 'k2_bwd_PYRtex', 'k2_bwd_SERtex', 'k2_bwd_SUCCtex', 'k2_bwd_TRPtex', 'k2_bwd_TYRtex', 'k2_fwd_ACALDtex', 'k2_fwd_ACtex', 'k2_fwd_AKGtex', 'k2_fwd_CO2tex', 'k2_fwd_D-LACtex', 'k2_fwd_ETOHtex', 'k2_fwd_FORtex', 'k2_fwd_GLCtex', 'k2_fwd_GLUtex', 'k2_fwd_Htex', 'k2_fwd_MALtex', 'k2_fwd_NH4tex', 'k2_fwd_O2tex', 'k2_fwd_PHEtex', 'k2_fwd_PYRtex', 'k2_fwd_SERtex', 'k2_fwd_SUCCtex', 'k2_fwd_TRPtex', 'k2_fwd_TYRtex', 'k_equilibrium_ATPM', 'k_equilibrium_FDH4pp', 'k_equilibrium_NADH16pp', 'k_equilibrium_NADH5', 'kcat_forward_ACALDtex', 'kcat_forward_ACtex', 'kcat_forward_AKGtex', 'kcat_forward_CO2tex', 'kcat_forward_D-LACtex', 'kcat_forward_ETOHtex', 'kcat_forward_FORtex', 'kcat_forward_GLCtex', 'kcat_forward_GLUtex', 'kcat_forward_Htex', 'kcat_forward_MALtex', 'kcat_forward_NH4tex', 'kcat_forward_O2tex', 'kcat_forward_PHEtex', 'kcat_forward_PYRtex', 'kcat_forward_SERtex', 'kcat_forward_SUCCtex', 'kcat_forward_TRPtex', 'kcat_forward_TYRtex', 'km_product_ACALDtex', 'km_product_ACtex', 'km_product_AKGtex', 'km_product_CO2tex', 'km_product_D-LACtex', 'km_product_ETOHtex', 'km_product_FORtex', 'km_product_GLCtex', 'km_product_GLUtex', 'km_product_Htex', 'km_product_MALtex', 'km_product_NH4tex', 'km_product_O2tex', 'km_product_PHEtex', 'km_product_PYRtex', 'km_product_SERtex', 'km_product_SUCCtex', 'km_product_TRPtex', 'km_product_TYRtex', 'km_substrate30_LMPD_biomass_c_1_420', 'km_substrate_ACALDtex', 'km_substrate_ACtex', 'km_substrate_AKGtex', 'km_substrate_ATPM', 'km_substrate_CO2tex', 'km_substrate_D-LACtex', 'km_substrate_ETOHtex', 'km_substrate_FORtex', 'km_substrate_GLCtex', 'km_substrate_GLUtex', 'km_substrate_Htex', 'km_substrate_MALtex', 'km_substrate_NH4tex', 'km_substrate_O2tex', 'km_substrate_PHEtex', 'km_substrate_PYRtex', 'km_substrate_SERtex', 'km_substrate_SUCCtex', 'km_substrate_TRPtex', 'km_substrate_TYRtex', 'total_enzyme_concentration_ACALDtex', 'total_enzyme_concentration_ACtex', 'total_enzyme_concentration_AKGtex', 'total_enzyme_concentration_CO2tex', 'total_enzyme_concentration_D-LACtex', 'total_enzyme_concentration_ETOHtex', 'total_enzyme_concentration_FORtex', 'total_enzyme_concentration_GLCtex', 'total_enzyme_concentration_GLUtex', 'total_enzyme_concentration_Htex', 'total_enzyme_concentration_MALtex', 'total_enzyme_concentration_NH4tex', 'total_enzyme_concentration_O2tex', 'total_enzyme_concentration_PHEtex', 'total_enzyme_concentration_PYRtex', 'total_enzyme_concentration_SERtex', 'total_enzyme_concentration_SUCCtex', 'total_enzyme_concentration_TRPtex', 'total_enzyme_concentration_TYRtex', 'vmax_backward_ACALDtex', 'vmax_backward_ACtex', 'vmax_backward_AKGtex', 'vmax_backward_ATPM', 'vmax_backward_CO2tex', 'vmax_backward_D-LACtex', 'vmax_backward_ETOHtex', 'vmax_backward_FORtex', 'vmax_backward_GLCtex', 'vmax_backward_GLUtex', 'vmax_backward_Htex', 'vmax_backward_MALtex', 'vmax_backward_NH4tex', 'vmax_backward_O2tex', 'vmax_backward_PHEtex', 'vmax_backward_PYRtex', 'vmax_backward_SERtex', 'vmax_backward_SUCCtex', 'vmax_backward_TRPtex', 'vmax_backward_TYRtex']\n",
      "True\n",
      "True\n"
     ]
    }
   ],
   "source": [
    "simulator(path_to_parameters, met_model, ss_idx, initiator_path,  output_path, output_name)"
   ]
  }
 ],
 "metadata": {
  "kernelspec": {
   "display_name": "Python 3",
   "language": "python",
   "name": "python3"
  },
  "language_info": {
   "codemirror_mode": {
    "name": "ipython",
    "version": 3
   },
   "file_extension": ".py",
   "mimetype": "text/x-python",
   "name": "python",
   "nbconvert_exporter": "python",
   "pygments_lexer": "ipython3",
   "version": "3.8.18"
  }
 },
 "nbformat": 4,
 "nbformat_minor": 2
}
