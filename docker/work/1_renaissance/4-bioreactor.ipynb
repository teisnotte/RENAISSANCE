{
 "cells": [
  {
   "cell_type": "code",
   "execution_count": null,
   "metadata": {},
   "outputs": [],
   "source": [
    "import sys\n",
    "import os\n",
    "# Add the parent directory to the PYTHONPATH\n",
    "sys.path.append(os.path.abspath('../'))\n",
    "\n",
    "from configparser import ConfigParser\n",
    "from renaissance.simulation.bioreactor import simulator\n",
    "\n",
    "# parse arguments from configfile\n",
    "configs = ConfigParser()\n",
    "configs.read('configfile.ini')\n",
    "\n",
    "met_model = configs['PATHS']['met_model']\n",
    "ss_idx = int(configs['EVOSTRAT']['ss_idx'])\n",
    "\n",
    "path_to_parameters = configs['BIOREACTOR_SIMULATION']['path_to_parameter_set']\n",
    "output_name = configs['BIOREACTOR_SIMULATION']['name_output']\n",
    "output_path = configs['BIOREACTOR_SIMULATION']['path_output']\n",
    "initiator_path = configs['BIOREACTOR_SIMULATION']['path_to_initiator']\n",
    "\n"
   ]
  },
  {
   "cell_type": "code",
   "execution_count": null,
   "metadata": {},
   "outputs": [],
   "source": [
    "simulator(path_to_parameters, met_model, ss_idx, initiator_path,  output_path, output_name)"
   ]
  }
 ],
 "metadata": {
  "language_info": {
   "name": "python"
  }
 },
 "nbformat": 4,
 "nbformat_minor": 2
}
