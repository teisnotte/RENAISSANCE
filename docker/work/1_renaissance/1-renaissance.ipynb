{
 "cells": [
  {
   "cell_type": "code",
   "execution_count": null,
   "metadata": {},
   "outputs": [],
   "source": [
    "import sys\n",
    "import os\n",
    "# Add the parent directory to the PYTHONPATH\n",
    "sys.path.append(os.path.abspath('../'))\n",
    "\n",
    "import numpy as np\n",
    "import helper as hp\n",
    "import pandas as pd\n",
    "import multiprocessing as mp\n",
    "from configparser import ConfigParser\n",
    "from evostrat.init_mlp import MLP\n",
    "from evostrat.evolution_strategy import EvolutionStrategy\n",
    "from kinetics.jacobian_solver import check_jacobian\n"
   ]
  },
  {
   "cell_type": "code",
   "execution_count": null,
   "metadata": {},
   "outputs": [],
   "source": [
    "#Parse arguments from configfile\n",
    "configs = ConfigParser()\n",
    "configs.read('configfile.ini')\n",
    "\n",
    "n_samples = int(configs['MLP']['n_samples'])\n",
    "\n",
    "lnminkm = float(configs['CONSTRAINTS']['min_km'])\n",
    "lnmaxkm = float(configs['CONSTRAINTS']['max_km'])\n",
    "\n",
    "repeats = int(configs['EVOSTRAT']['repeats'])\n",
    "save_step = int(configs['EVOSTRAT']['save_step'])\n",
    "generations = int(configs['EVOSTRAT']['generations'])\n",
    "pop_size = int(configs['EVOSTRAT']['pop_size'])\n",
    "noise = float(configs['EVOSTRAT']['noise'])\n",
    "lr = float(configs['EVOSTRAT']['lr'])\n",
    "decay = float(configs['EVOSTRAT']['decay'])\n",
    "ss_idx = int(configs['EVOSTRAT']['ss_idx'])\n",
    "n_threads = int(configs['EVOSTRAT']['n_threads'])\n",
    "\n",
    "base = configs['PATHS']['base']\n",
    "output_path = configs['PATHS']['output_path']\n",
    "met_model = configs['PATHS']['met_model']\n",
    "model_file = configs['PATHS']['model_file']\n",
    "thermo_experiment_file = configs['PATHS']['thermo_experiment_file']\n",
    "regulation_file = configs['PATHS']['regulation_file']\n",
    "kinetic_params_file = configs['PATHS']['kinetic_params_file']\n",
    "steady_states_file = configs['PATHS']['steady_states_file']\n",
    "\n",
    "reward_flag = int(configs['REWARDS']['reward_flag'])\n",
    "eig_partition = float(configs['REWARDS']['eig_partition'])\n",
    "n_consider = int(configs['REWARDS']['n_consider'])\n",
    "\n",
    "pf_flag = int(configs['PARAMETER_FIXING']['pf_flag'])\n"
   ]
  },
  {
   "cell_type": "code",
   "execution_count": null,
   "metadata": {},
   "outputs": [],
   "source": [
    "path_to_kmodel = f'{base}/{met_model}/kinetic/{model_file}'\n",
    "path_to_tmodel = f'{base}/{met_model}/thermo/{thermo_experiment_file}'\n",
    "path_to_parameters = f'{base}/{met_model}/parameters/{kinetic_params_file}'\n",
    "path_to_regulation = f'{base}/{met_model}/{regulation_file}'\n",
    "path_to_samples = f'{base}/{met_model}/steady_state_samples/{steady_states_file}'"
   ]
  },
  {
   "cell_type": "code",
   "execution_count": null,
   "metadata": {},
   "outputs": [],
   "source": [
    "## Load kinetic and thermodynamic data with regulation  \n",
    "regulation = pd.read_csv(path_to_regulation, header=0)\n",
    "# Call solvers from SKimPy\n",
    "chk_jcbn = check_jacobian()\n",
    "# Integrate regulation data\n",
    "chk_jcbn.load_regulation_models(path_to_kmodel, path_to_tmodel, path_to_samples, regulation, 1712) "
   ]
  },
  {
   "cell_type": "code",
   "execution_count": null,
   "metadata": {},
   "outputs": [],
   "source": [
    "# Load steady states data into the model\n",
    "steady_states = pd.read_csv(path_to_samples, header=0, index_col=0).iloc[ss_idx, 0:]\n",
    "chk_jcbn._load_ssprofile(steady_states)  ## Integrate steady state information"
   ]
  },
  {
   "cell_type": "code",
   "execution_count": null,
   "metadata": {},
   "outputs": [],
   "source": [
    "k_names = []\n",
    "k_regulation = []\n",
    "\n",
    "for k, v in chk_jcbn.kmodel.parameters.items():\n",
    "    if k.startswith(\"km_\") or \"activator\" in k or \"inhibitor\" in k or \"activation\" in k or \"inhibition\" in k:\n",
    "        if k not in k_names:\n",
    "            k_names.append(k)\n",
    "            \n",
    "        if \"activator\" in k or \"inhibitor\" in k or \"activation\" in k or \"inhibition\" in k:\n",
    "            k_regulation.append(k)\n",
    "\n",
    "print(f\"The number of k for generation is {len(k_names)}, \\nand the number of regulation parameters is {len(k_regulation)}.\")"
   ]
  },
  {
   "cell_type": "code",
   "execution_count": null,
   "metadata": {},
   "outputs": [],
   "source": [
    "parameter_sample= {v.symbol: v.value for k,v in chk_jcbn.kmodel.parameters.items()}\n",
    "\n",
    "print(parameter_sample)"
   ]
  },
  {
   "cell_type": "code",
   "execution_count": null,
   "metadata": {},
   "outputs": [],
   "source": [
    "# Create a DataFrame from list1\n",
    "df = pd.DataFrame(chk_jcbn.kmodel.parameters.keys(), columns=['Full List'])\n",
    "\n",
    "# Initialize the second column with NaNs or an appropriate placeholder\n",
    "df['Selected'] = pd.Series([None] * len(df))\n",
    "\n",
    "# Populate the 'Selected' column with values from list2 where they match values in 'Full List'\n",
    "for item in k_names:\n",
    "    if item in df['Full List'].values:\n",
    "        df.loc[df['Full List'] == item, 'Selected'] = item\n",
    "\n",
    "# Display the DataFrame\n",
    "print(df)\n",
    "\n",
    "# Save the DataFrame to a CSV file\n",
    "df.to_csv('matched_list.csv', index=False)"
   ]
  },
  {
   "cell_type": "code",
   "execution_count": null,
   "metadata": {},
   "outputs": [],
   "source": [
    "# declare reward functions\n",
    "def reward_func(weights):\n",
    "    \"\"\"\n",
    "    evaluate reward for a set of generated kinetic parameter sets\n",
    "    :param gen_params: agent generated kinetic parameter sets\n",
    "    :return: reward\n",
    "    \"\"\"\n",
    "\n",
    "    global calc_eig\n",
    "    global n_samples\n",
    "    global eig_partition\n",
    "    global n_threads\n",
    "    global reward_flag\n",
    "    global gen_params\n",
    "    global n_consider\n",
    "\n",
    "    def calc_eig(gen_param):\n",
    "        chk_jcbn._prepare_parameters(gen_param, k_names)\n",
    "        max_eig = chk_jcbn.calc_eigenvalues_recal_vmax()\n",
    "        return max_eig\n",
    "\n",
    "    pool = mp.Pool(n_threads)\n",
    "\n",
    "    mlp.generator.set_weights(weights)\n",
    "    gen_params = mlp.sample_parameters()\n",
    "    gen_params = [[params] for params in gen_params]\n",
    "\n",
    "    max_eig = pool.map(calc_eig, gen_params)\n",
    "    # for gen_param in gen_params:\n",
    "    #     calc_eig(gen_param)\n",
    "    # max_eig = np.array([this_eig for eig in max_eig for this_eig in eig])\n",
    "\n",
    "    if reward_flag == 0:\n",
    "        max_neg_eig = np.min(max_eig)\n",
    "        if max_neg_eig > eig_partition:\n",
    "            this_reward = 0.01 / (1 + np.exp(max_neg_eig - eig_partition))\n",
    "        else:\n",
    "            this_reward = len(np.where(max_eig <= eig_partition)[0]) / n_samples\n",
    "        pool.close()\n",
    "    elif reward_flag == 1:\n",
    "        max_eig.sort()\n",
    "        considered_avg = sum(max_eig[:n_consider]) / n_consider\n",
    "        this_reward = np.exp(-0.1 * considered_avg) / 2\n",
    "        pool.close()\n",
    "    return this_reward"
   ]
  },
  {
   "cell_type": "code",
   "execution_count": null,
   "metadata": {},
   "outputs": [],
   "source": [
    "\n",
    "for rep in range(1):\n",
    "    print(f\"repeat {rep}\")\n",
    "    cond_class = 1\n",
    "    # Call neural network agent\n",
    "    mlp = MLP(cond_class, lnminkm, lnmaxkm, n_samples, k_names, len(k_names), param_fixing=pf_flag)\n",
    "    '''\n",
    "    ## Snippet to start from previously saved weights \n",
    "    load_weights = hp.load_pkl('/path/to/weights')\n",
    "    mlp.generator.set_weights(load_weights)\n",
    "    '''\n",
    "    init_dict = mlp.generator.get_weights()\n",
    "\n",
    "    this_savepath = f'../{output_path}/repeat_{rep}/'\n",
    "    os.makedirs(this_savepath, exist_ok=True)\n",
    "\n",
    "    es = EvolutionStrategy(mlp.generator.get_weights(),\n",
    "                           reward_func, this_savepath,\n",
    "                           population_size=pop_size,\n",
    "                           sigma=noise,  # noise std deviation\n",
    "                           learning_rate=lr,\n",
    "                           decay=decay,\n",
    "                           num_threads=1)\n",
    "    \n",
    "    rewards = es.run(generations, print_step=save_step)\n",
    "    hp.save_pkl(f'../{this_savepath}/rewards', rewards)\n",
    "\n"
   ]
  },
  {
   "cell_type": "code",
   "execution_count": null,
   "metadata": {},
   "outputs": [],
   "source": [
    "chk_jcbn.conc_series"
   ]
  },
  {
   "cell_type": "code",
   "execution_count": null,
   "metadata": {},
   "outputs": [],
   "source": [
    "chk_jcbn.parameter_sample_set[0]"
   ]
  },
  {
   "cell_type": "code",
   "execution_count": null,
   "metadata": {},
   "outputs": [],
   "source": [
    "print(chk_jcbn.jacobian_set[0])\n",
    "print(\"Shape:\", chk_jcbn.jacobian_set[20].shape)\n",
    "print(\"Non-zero elements:\", chk_jcbn.jacobian_set[20].nnz)\n",
    "\n"
   ]
  },
  {
   "cell_type": "code",
   "execution_count": null,
   "metadata": {},
   "outputs": [],
   "source": [
    "len(chk_jcbn.jacobian_set)"
   ]
  },
  {
   "cell_type": "code",
   "execution_count": null,
   "metadata": {},
   "outputs": [],
   "source": [
    "import seaborn as sns\n",
    "import matplotlib.pyplot as plt\n",
    "from scipy.sparse import csc_matrix\n",
    "\n",
    "# Creating a sample matrix with some NaN values\n",
    "matrix = chk_jcbn.jacobian_set[0]\n",
    "dense_matrix = matrix.toarray()\n",
    "\n",
    "# Use a colormap that represents NaN values with grey\n",
    "# 'viridis' is just an example; you can use any suitable colormap\n",
    "cmap = plt.cm.viridis\n",
    "cmap.set_bad(color='grey')\n",
    "\n",
    "# Create the heatmap\n",
    "plt.figure(figsize=(8, 6))\n",
    "plt.imshow(dense_matrix, interpolation='nearest', cmap=cmap)\n",
    "\n",
    "# Add color bar for reference\n",
    "plt.colorbar()\n",
    "\n",
    "# Add title and labels as needed\n",
    "plt.title('Heatmap of Matrix')\n",
    "plt.xlabel('Column')\n",
    "plt.ylabel('Row')\n",
    "\n",
    "# Show the plot\n",
    "plt.show()"
   ]
  },
  {
   "cell_type": "code",
   "execution_count": null,
   "metadata": {},
   "outputs": [],
   "source": [
    "import os\n",
    "import matplotlib.pyplot as plt\n",
    "import numpy as np\n",
    "from scipy.sparse import csc_matrix\n",
    "\n",
    "# Create the output directory if it doesn't exist\n",
    "output_dir = \"output\"\n",
    "os.makedirs(output_dir, exist_ok=True)\n",
    "\n",
    "# Assuming sparse_matrices is your list of csc_matrix objects\n",
    "# sparse_matrices = [csc_matrix1, csc_matrix2, ..., csc_matrix100]\n",
    "\n",
    "for i, sparse_matrix in enumerate(chk_jcbn.jacobian_set):\n",
    "    # Convert the sparse matrix to a dense array\n",
    "    dense_matrix = sparse_matrix.toarray()\n",
    "    \n",
    "    # Use a colormap and set NaN values to appear grey\n",
    "    cmap = plt.cm.viridis\n",
    "    cmap.set_bad(color='grey')\n",
    "    \n",
    "    # Create the heatmap\n",
    "    plt.figure(figsize=(8, 6))\n",
    "    plt.imshow(dense_matrix, interpolation='nearest', cmap=cmap)\n",
    "    plt.colorbar()\n",
    "    plt.title(f'Heatmap {i+1}')\n",
    "    plt.xlabel('Column')\n",
    "    plt.ylabel('Row')\n",
    "    \n",
    "    # Save the plot to the output directory with a unique name\n",
    "    plt.savefig(f'{output_dir}/heatmap_{i+1}.png')\n",
    "    plt.close()  # Close the plot to free up memory"
   ]
  },
  {
   "cell_type": "code",
   "execution_count": null,
   "metadata": {},
   "outputs": [],
   "source": [
    "type(chk_jcbn.jacobian_set[0])"
   ]
  },
  {
   "cell_type": "code",
   "execution_count": null,
   "metadata": {},
   "outputs": [],
   "source": [
    "chk_jcbn.kmodel.jacobian_fun"
   ]
  },
  {
   "cell_type": "markdown",
   "metadata": {},
   "source": [
    "## Save parameters"
   ]
  },
  {
   "cell_type": "code",
   "execution_count": null,
   "metadata": {},
   "outputs": [],
   "source": [
    "set_0 = gen_params[0][0]\n",
    "gen_flat = [inner_list[0] for inner_list in gen_params]\n"
   ]
  },
  {
   "cell_type": "code",
   "execution_count": null,
   "metadata": {},
   "outputs": [],
   "source": [
    "# Convert the numpy array to a DataFrame\n",
    "df = pd.DataFrame(gen_flat, columns=k_names)\n",
    "\n",
    "# Save the DataFrame to a CSV file\n",
    "df.to_csv('gen_parms.csv', index=False)"
   ]
  }
 ],
 "metadata": {
  "language_info": {
   "name": "python"
  }
 },
 "nbformat": 4,
 "nbformat_minor": 2
}
